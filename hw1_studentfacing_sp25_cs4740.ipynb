{
 "cells": [
  {
   "cell_type": "markdown",
   "metadata": {
    "id": "6VmFqIEb7CRO"
   },
   "source": [
    "# Homework 1 Section B: Named Entity Recognition (NER) with HMMs\n",
    "\n",
    "### Milestone Submission Due: February 12, 2025 (11:59PM)\n",
    "### Project Submission Due: February 21, 2025 (11:59PM)"
   ]
  },
  {
   "cell_type": "markdown",
   "metadata": {
    "id": "j7n_cjoN7CRS"
   },
   "source": [
    "## **Logistics**\n",
    "\n",
    "### Notes:\n",
    "  \n",
    "- You will **NOT** be submitting this .ipynb file. Please refer to the submission instructions in both the hw1 pdf shared with you and at the end of this notebook.\n",
    "- Please complete the written questions in the same pdf document where you attempt Section A of the homework.\n",
    "- Do **NOT** add, remove, or modify any imports across python source files. If you have any concerns regarding missing imports, please let course staff know through EdStem before attempting to change anything.\n",
    "- Do **NOT** change any of the function headers and/or specs! The input(s) and output must perfectly match the specs, or else your implementation for any function with changed specs will most likely fail! (for e.g. do not shuffle your data when generating the output.txt file! )\n",
    "- If you decide to create local helper functions, your code must have docstrings/comments documenting the meaning of parameters and important parameter-like variables.\n",
    "- We are recommending python version 3.9+. This is due to compatibility issues with the external dependencies.\n",
    "\n",
    "\n",
    "### Tips:\n",
    "- Pair program the more intensive parts of this assignment! You'll thank yourselves later for the amount of trouble this helps you avoid.\n",
    "- We recommend you start this assignment early and continue incrementally adding onto it!"
   ]
  },
  {
   "cell_type": "markdown",
   "metadata": {
    "id": "Yvrfpo597CRU"
   },
   "source": [
    "## Part 0: Environment setup\n",
    "\n",
    "**IMPORTANT:** Read the following file: `vscode-setup.md` to setup your environment for development including setting up VSCode, adding Python extensions, creating virtual environments, and installing dependencies."
   ]
  },
  {
   "cell_type": "code",
   "execution_count": 1,
   "metadata": {
    "id": "JelKDZQH7CRU"
   },
   "outputs": [],
   "source": [
    "### AUTORELOAD EXTENSION -- DO NOT MODIFY ###\n",
    "%load_ext autoreload\n",
    "%autoreload 2\n"
   ]
  },
  {
   "cell_type": "code",
   "execution_count": 2,
   "metadata": {
    "id": "F7MTlknh7CRV"
   },
   "outputs": [],
   "source": [
    "### IMPORTS -- DO NOT MODIFY ###\n",
    "import json\n",
    "import nltk\n",
    "import numpy as np\n",
    "import matplotlib.pyplot as plt\n",
    "import os\n",
    "import random\n",
    "from helpers import apply_smoothing, handle_unknown_words\n",
    "from models import HMM\n",
    "from viterbi import viterbi\n",
    "from validation import evaluate_model, mean_f1, format_output_labels\n",
    "from data_exploration import unzip_data, read_json, stringify_labeled_doc, validate_ner_sequence\n"
   ]
  },
  {
   "cell_type": "markdown",
   "metadata": {
    "id": "SIau-lWb7CRV"
   },
   "source": [
    "## Part 1: Data Exploration\n",
    "\n",
    "### Loading the Data\n",
    "\n",
    "The data is stored in a zip file. You can use the following provided function to\n",
    "load the data and preprocess it. Under the hood, this is unzipping the data and reading each of\n",
    "the provided json data files into Python dictionaries. It then further formats the data such that\n",
    "we can accurately train our model from it."
   ]
  },
  {
   "cell_type": "code",
   "execution_count": 3,
   "metadata": {
    "id": "s6AG9AZj7CRW"
   },
   "outputs": [],
   "source": [
    "data_zip_path = \"./dataset.zip\"\n",
    "dest_path = \"dataset\"\n",
    "\n",
    "unzip_data(data_zip_path, dest_path) # unzips the data into current directory\n",
    "\n",
    "training_data = read_json(os.path.join(dest_path, \"train.json\"))\n",
    "validation_data = read_json(os.path.join(dest_path, \"val.json\"))\n",
    "test_data = read_json(os.path.join(dest_path, \"test.json\"))\n",
    "\n",
    "training_data['text'] = [sen[:-1] for sen in training_data['text']]\n",
    "validation_data['text'] = [sen[:-1] for sen in validation_data['text']]\n",
    "test_data['text'] = [sen[:-1] for sen in test_data['text']]\n",
    "\n",
    "training_data['NER'] = [sen[:-1] for sen in training_data['NER']]\n",
    "validation_data['NER'] = [sen[:-1] for sen in validation_data['NER']]\n",
    "\n",
    "training_data['index'] = [sen[:-1] for sen in training_data['index']]\n",
    "validation_data['index'] = [sen[:-1] for sen in validation_data['index']]\n",
    "test_data['index'] = [sen[:-1] for sen in test_data['index']]\n"
   ]
  },
  {
   "cell_type": "markdown",
   "metadata": {
    "id": "IcFDvWtI7CRW"
   },
   "source": [
    "### Looking at the data\n",
    "\n",
    "Since your data files can be large and unwieldy, you can explore the data by\n",
    "writing code. Check out the data format by looking at at keys, and some of the\n",
    "values in the data. You can use the following code to get started:"
   ]
  },
  {
   "cell_type": "code",
   "execution_count": 4,
   "metadata": {
    "id": "UwCB5gdw7CRW"
   },
   "outputs": [
    {
     "name": "stdout",
     "output_type": "stream",
     "text": [
      "dict_keys(['index', 'text', 'NER'])\n",
      "dict_keys(['index', 'text', 'NER'])\n",
      "dict_keys(['index', 'text'])\n"
     ]
    }
   ],
   "source": [
    "print(training_data.keys())\n",
    "print(validation_data.keys())\n",
    "print(test_data.keys())\n"
   ]
  },
  {
   "cell_type": "markdown",
   "metadata": {
    "id": "6akC7Fv_7CRW"
   },
   "source": [
    "Notice the test data does not have any labels. This is because you will need to\n",
    "predict them using your models!\n",
    "\n",
    "To get a sense of what your data looks like, check out some samples. Implement\n",
    "the `stringify_labeled_doc` function in `data_exploration.py`, and use it to print\n",
    "out some samples of the data."
   ]
  },
  {
   "cell_type": "code",
   "execution_count": 5,
   "metadata": {},
   "outputs": [
    {
     "data": {
      "text/plain": [
       "'[PER Gavin Fogel] is cool.'"
      ]
     },
     "execution_count": 5,
     "metadata": {},
     "output_type": "execute_result"
    }
   ],
   "source": [
    "text = [\"Gavin\", \"Fogel\", \"is\", \"cool\", \".\"]\n",
    "ner = [\"B-PER\", \"I-PER\", \"O\", \"O\", \"O\"]\n",
    "stringify_labeled_doc(text, ner)\n"
   ]
  },
  {
   "cell_type": "code",
   "execution_count": 6,
   "metadata": {
    "id": "CEaFvG097CRW"
   },
   "outputs": [
    {
     "name": "stdout",
     "output_type": "stream",
     "text": [
      "83\n",
      "['He', 'was', 'President', 'of', 'the', 'Royal', 'Statistical', 'Society', ',', '1897', '–', '9']\n",
      "[('He', 'O'), ('was', 'O'), ('President', 'O'), ('of', 'O'), ('the', 'O'), ('Royal', 'B-ORG'), ('Statistical', 'I-ORG'), ('Society', 'I-ORG'), (',', 'O'), ('1897', 'O'), ('–', 'O'), ('9', 'O')]\n",
      "He was President of the [ORG Royal Statistical Society], 1897 – 9\n"
     ]
    }
   ],
   "source": [
    "# random_index = random.randint(0, len(training_data['text']))\n",
    "random_index = 83\n",
    "\n",
    "# TODO: fix cases with \"-\" and \"/\"\n",
    "# random_index = 13, 83\n",
    "# 33, 117, 2630\n",
    "\n",
    "text = training_data['text'][random_index]\n",
    "ner = training_data['NER'][random_index]\n",
    "\n",
    "print(random_index)\n",
    "print(text)\n",
    "print(list(zip(text, ner)))\n",
    "\n",
    "s = stringify_labeled_doc(text, ner)\n",
    "print(s)\n"
   ]
  },
  {
   "cell_type": "code",
   "execution_count": 7,
   "metadata": {},
   "outputs": [
    {
     "name": "stdout",
     "output_type": "stream",
     "text": [
      "This is the highest approval rate among [MISC West] [MISC German] federal states (average: 20%) and the second highest nationwide (national average: 24.3%)\n",
      "Cutting the skin into strips, she laid out her claim and founded an empire that would become, through the [MISC Punic Wars], the only existential threat to [LOC Rome] until the coming of the [PER Vandals] several centuries later\n",
      "Questions in [ORG Parliament] have not clarified the situation, as answers from the relevant minister say that since there is no official national anthem, each sport must make its own decision\n",
      "He is also remembered fondly by [LOC Distillery] fans\n",
      "The opening ceremonies were held separately in [LOC Christchurch], [LOC New Zealand] and [LOC Melbourne], [LOC Australia], on 12 February 2015, two days before the first two matches\n",
      "Then, everyone is asked to stand, join hands, and sing \"[MISC Auld Lang Syne]\" to bring the evening to an end\n",
      "Though [LOC Sweden] did not possess an extensive colonial network, botanical research based on [PER Carl Linnaeus] identified and developed techniques to grow cinnamon, tea and rice locally as an alternative to costly imports\n",
      "\"[MISC At Seventeen]\" is a bittersweet commentary on adolescent cruelty, the illusion of popularity and teenage angst, from the perspective of a narrator looking back on her earlier experience\n",
      "He hoped that it might regard him as its champion against the ambition of [PER Octavian], whom he presumed would not be willing to abandon his position in a similar manner\n",
      "In contrast, the [LOC White Nile] provides only 10% of the [LOC Nile]'s waters during the high-water season but contributes more than 80% during the low-water period\n",
      "This resulted in the nearby town of [LOC Alameda] being made an island\n",
      "It was well-received by critics It had a large opening weekend take of $35.5 million, placing it at #1 for the weekend of August 6 – 8, 2010, unseating \"[MISC Inception]\"\n",
      "His projects were carried out by the architect [PER Eugène Viollet-le-Duc]\n",
      "At, the [LOC Central African Republic] is the world's 45th - largest country (after [LOC Somalia])\n",
      "Red [MISC Easter] eggs are sometimes served along the centerline of tsoureki (braided loaf of bread)\n",
      "The mining industry of [LOC Laos] has received prominent attention with foreign direct investments\n",
      "A notable example is the [MISC Roman] poet [PER Juvenal]'s satires\n",
      "Nevertheless, the first BCP was a \"radical\" departure from traditional worship in that it \"eliminated almost everything that had till then been central to lay [MISC Eucharistic] piety\"\n",
      "He was also the voice behind many [ORG B&Q] adverts throughout 2006 / 2007\n",
      "In 2015, there were ten adult education centres in [LOC Gothenburg]: \"[LOC Agnesbergs] folkhögskola\", \"[ORG Arbetarrörelsens folkhögskola] i [LOC Göteborg]\", \"[ORG Finska folkhögskolan]\", \"[ORG Folkhögskolan i Angered]\", \"[ORG Göteborgs folkhögskola]\", \"[ORG Kvinnofolkhögskolan]\", \"[ORG Mo Gård folkhögskola]\", \"[ORG S: ta Birgittas folkhögskola]\", \"[ORG Västra Götalands folkhögskolor]\" and \"[ORG Wendelsbergs folkhögskola]\"\n",
      "The city's immediate proximity to two lakes, as well as [LOC Manistee National Forest], [LOC Pere Marquette State Forest], [LOC Mitchell State Park] and a number of major highways, has established tourism as a significant sector of the local economy\n",
      "The film also was a turning point in [PER Suriya]'s career\n",
      "In 1985 the channel's controller [PER Michael Grade] attempted to cancel the series, but this became an 18-month hiatus instead\n",
      "[PER Ralph H. Baer], while working at [ORG Sanders Associates] in 1966, came up with the idea of using a control system to play a rudimentary game of table tennis on a television screen\n",
      "On [MISC Metacritic], the film has a weighted average score of 43 out of 100, based on 34 critics, indicating \"mixed or average reviews\"\n",
      "In the year ending September 30, 2018, the airport had 133,669 operations, average 366 per day: 43% general aviation, 40% scheduled commercial, 17% air taxi, and From this station, the [LOC Antelope Valley Line] provides access to downtown [LOC Los Angeles] and the [LOC Antelope Valley]\n",
      "Other songs include \"[MISC Y.M.C.A.]\" (1979) and \"[MISC In the Navy]\" (1979)\n",
      "[MISC Game Revolution] described the storyline as \"epic\" and \"fabulous\" with \"many twists and turns\" and a large cast of characters\n",
      "This was the first time [LOC Wales] has held this trophy since 2005\n",
      "The genus \"Thambotricha\" from [LOC New Zealand] may be the sister group of all other extant members\n",
      "However, this was put on hold so she could concentrate on recording \"[MISC Destiny Fulfilled]\", the final studio album by [ORG Destiny's Child]\n",
      "It was subsequently made a state-owned territory (\"ager publicus\") and during the reign of the emperor [PER Augustus] it was imperial property\n",
      "The [LOC Chatham] oystercatcher is endemic to the [LOC Chatham Islands] of [LOC New Zealand] but is listed as endangered by the [ORG IUCN], while both the [MISC African] and [MISC Eurasian] oystercatchers are considered near threatened\n",
      "Thus, to convert from units of [PER Fahrenheit] to units of [PER Celsius], one subtracts 32 \"°F (the offset from the point of reference), divides by 9\" °F and multiplies by 5 \"°C (scales by the ratio of units), and adds 0\" °C (the offset from the point of reference)\n",
      "When [LOC Belgium] became independent in 1830 the national government started searching through their historical archives for people who could serve as national heroes\n",
      "He described his relationship with [ORG Chelsea] owner [PER Roman Abramovich] as \"excellent\" and expressed his desire to remain as [ORG Chelsea] manager until the end of the season\n",
      "They also propose that it is necessary to have a planetary system with large gas giants which provide bombardment protection without a hot [LOC Jupiter]; and a planet with plate tectonics, a large moon that creates tidal pools, and moderate axial tilt to generate seasonal variation\n",
      "as in his [MISC Apu] trilogy\n",
      "There are also commercial deposits being actively mined in the [LOC Northwest Territories] of [LOC Canada] and [LOC Brazil]\n",
      "The [PER Poincaré] conjecture claims that if such a space has the additional property that each loop in the space can be continuously tightened to a point, then it is necessarily a three-dimensional sphere\n",
      "She gives him food, and speaks to him, urging him not to \"have on his conscience the staggering burden of needless bloodshed\" (verse 31, [https://www.kingjamesbibleonline.org/ NIV]) and reminding him that [PER God] will make him a \"lasting dynasty\" (verse 28)\n",
      "It is the second film by director [PER Michel Brault]\n",
      "However, when consulting a map, she found that there was a city called [LOC Volterra] in the area where she had planned to place her imaginary city\n",
      "For example, the mold \"[LOC Scopulariopsis] brevicaulis\" produces significant amounts of trimethylarsine if inorganic arsenic is present\n",
      "This usage of the word is because the hyperboloid can be thought of as a sphere of imaginary radius, embedded in a [PER Minkowski] space\n",
      "Using the [PER Debye] model, the specific heat and entropy of a pure crystal are proportional to \"T\", while the enthalpy and chemical potential are proportional to \"T\"\n",
      "Many of [PER Newton]'s writings on alchemy are copies of other manuscripts, with his own annotations\n",
      "A 2015 survey of [MISC Android] users showed that persons 13 to 24 used messaging apps 3.5 times as much as those over 45, and were far less likely to use email\n",
      "[PER Ronaldo] is widely regarded as one of the two best players of his generation, alongside [PER Lionel Messi]\n",
      "Notable political activists and [MISC Thai] citizens who criticized the king or the institution of monarchy were often forced into exile or to suffer frequent imprisonments\n",
      "The park also protects the headwaters of the [LOC Fuji River], [LOC Ōi River] and [LOC Tenryū River]\n",
      "In contrast with the \"big-A anarchism\" of the classical era, the newly coined term \"small-a anarchism\" signals their tendency not to base their thoughts and actions on classical-era anarchism or to refer to classical anarchists such as [PER Peter Kropotkin] and [PER Pierre-Joseph Proudhon] to justify their opinions\n",
      "[ORG Intel] donated the use of a render farm for the production\n",
      "The team suffered a tragedy during spring training of, when a boat carrying pitchers [PER Steve Olin], [PER Tim Crews], and [PER Bob Ojeda] crashed into a pier\n",
      "He briefly teamed with songwriter [PER Bruce Woodley] of [ORG The Seekers]\n",
      "The main title sequence was designed by [PER Pablo Ferro] (1935 – 2018), who was also an uncredited editor on the film\n",
      "[ORG Ericsson] holds 33,000 granted patents, and is the number-one holder of [MISC GSM] / GPRS / EDGE, WCDMA / HSPA, and LTE essential patents\n",
      "The basic insights that both [PER Newton] and [PER Leibniz] provided were the laws of differentiation and integration, second and higher derivatives, and the notion of an approximating polynomial series\n",
      "Following a series of currency devaluations, the crown has remained stable in relation to the [LOC US] dollar\n",
      "These fables embed ancient morals and cultural lores that are also found in the fables and legends of [MISC Hindu] and [MISC Jain] texts\n",
      "He thus decided to offer [PER Rommel] the chance to take his own life\n",
      "However, although important for the local economy in [LOC Congo], the contribution of coltan mining in [LOC Congo] to the world supply of tantalum is usually small\n",
      "While their intent was to visit only small farms, the delegation chief was approached by farmer and corn salesman [PER Roswell Garst], who persuaded him to insist on visiting [PER Garst]'s large farm\n",
      "On 27 November 2017, [PER Vincenzo Montella] was sacked by [ORG A.C. Milan]\n",
      "He quickly became an automatic first-choice, as the [LOC Andalusia] side was eventually relegated\n",
      "He then moved to the [ORG Deutsche Eishockey Liga] in [LOC Germany] for [ORG ERC Ingolstadt] and then to the [MISC Elitserien] in [LOC Sweden] for [ORG Leksands IF]\n",
      "The double-axe, labrys, was the holy symbol of the [LOC Cretan] labyrinth\n",
      "He scored one further goal for [ORG Bari] that season\n",
      "[LOC Beryllium] has a large scattering cross section for high-energy neutrons, about 6 barns for energies above approximately 10 \"keV\n",
      "See e.g. [PER Robert Ulanowicz]'s treatment of ecosystems\n",
      "His draft record for [MISC World War I], which showed that he was born in 1875, was subsequently located\n",
      "Engine sheds were provided at major stations and on some branches including at [LOC Taunton railway station] and [LOC Exeter St Davids railway station]\n",
      "He was born in [LOC Bordeaux]\n",
      "[PER Huxley] identified agnosticism not as a creed but rather as a method of skeptical, evidence-based inquiry\n",
      "He is the General Secretary of the [ORG FijiFirst] party\n",
      "It was the top-line [ORG Chevelle] series that year positioned above the [LOC Malibu]\n",
      "While living in [LOC Milan], he studied light from the summit of [LOC Monte Rosa]\n",
      "During her first pregnancy, an old interest in gardening resurfaced and she attended [LOC Capel Manor] college to learn about horticulture, so as to create a garden for her children\n",
      "Between 64,000 and 79,000 [MISC Bosnian] [MISC Croats] were killed between April 1941 to May 1945\n",
      "[LOC Timișoara] is directly linked by train service with [LOC Budapest], [LOC Belgrade] and [LOC Vienna]\n",
      "She also joined the other stars of the concert, including [PER Sting], [PER Elton John], and [PER Billy Joel] to perform \"[MISC With a Little Help From My Friends]\" and \"[MISC Twist and Shout]\" with them\n",
      "He made a small appearance in the TV movie \"[MISC The Midnight Hour]\" (1985)\n",
      "[MISC Christmas] is the most extensively celebrated, and at least 24 to 26 December is taken as a holiday\n",
      "He was President of the [ORG Royal Statistical Society], 1897 – 9\n",
      "and has described [PER Oprah Winfrey] as \"the definition of inspiration and a strong woman\n",
      "Of equal importance is the [MISC TR-808] kick drum, an artificially pitch-downed or elongated bass drum sound sampled from [ORG Roland]'s classic [MISC TR-808] drum machine, and a sound which has been subject to an enormous amount of experimentation over the years\n",
      "A board resembling a draughts board was found in [LOC Ur] dating from 3000 BC\n",
      "The \"[MISC Eunos] 800\" was sold in [LOC Japan] from 1993 through 1998\n",
      "[LOC Halton] (which includes the towns of [LOC Runcorn] and [LOC Widnes]) and [LOC Warrington] became unitary authorities in 1998\n",
      "The wildlife, including lions, brown hyenas, cheetahs, leopards, wild dogs and antelope, was described in great detail in the best-selling book \"[MISC Cry of the Kalahari]\" by [PER Mark and Delia Owens]\n",
      "He was part of a £45 million spending spree for the club owned by [PER Jesús Gil] that season, alongside [PER Juninho Paulista]\n",
      "The full list of hyperbolic uniform honeycombs has not been proven and an unknown number of [PER non-Wythoffian] forms exist\n",
      "The game's only run, scored by the [ORG Dodgers], was unearned\n",
      "Most likely they traveled overland through the [LOC Appalachian Mountains] to the [MISC Scots-Irish] community in the [LOC Waxhaws], straddling the border between [LOC North] and [LOC South Carolina]\n",
      "He also appears in the sequel \"[MISC Star Wars: The Force Unleashed II]\" as the final boss\n",
      "In 1816, [PER François Magendie] discovered that dogs fed only carbohydrates (sugar), fat (olive oil), and water died evidently of starvation, but dogs also fed protein survived - identifying protein as an essential dietary component\n",
      "The city was transferred to [LOC Prussia] after the first partition of [LOC Poland] in 1772\n",
      "He was replaced by [PER Maureen Tucker], resulting in the \"classic\" lineup of [ORG the Velvet Underground]\n",
      "[LOC Mexico]'s agricultural exports increased 9.4 percent annually between 1994 and 2001, while imports increased by only 6.9 percent a year during the same period\n",
      "The [ORG Communist Party of the Soviet Union] called for a peaceful coexistence, where the war between the [LOC United States] and [LOC Soviet Union] would come to a close\n",
      "In 2018, the stone type needed for the construction was found in a quarry in [LOC Brinscall], near [LOC Chorley], [LOC England]\n",
      "However, he received a straight red card in a match against [ORG Liverpool] on 20 March 2011 after a foul on [PER Luis Suárez], although the card was later rescinded\n",
      "He signed as a free agent with the [ORG San Antonio Spurs] on August 2, 2000, but never played a game for them\n",
      "Developing a love of the country, he continued experimenting with ceremonial magic, working with [PER John Dee]'s [MISC Enochian] invocations\n",
      "\"to criticise the claims made by [PER Percival Lowell] that there were [MISC Martian] canals built by intelligent beings\n",
      "Visitors to the tripoint are strongly encouraged to first obtain permission from the nearest landowner or use the path from the arc corner monument, which is bordered by [LOC Delaware] parkland most of the way, and [LOC Pennsylvania] parkland the entire way\n",
      "With the 2011 expansion of the [ORG Pac-12 Conference], a new $3 \"billion contract for revenue sharing among all the schools in the conference was established\n",
      "[ORG Anheuser-Busch] has sponsored the [ORG CART] championship\n",
      "After reunification in 1990, [LOC Berlin] was made the capital of [LOC Germany]\n",
      "For the reconstruction, locations of the pillars were inferred through reference to the building's remains at [LOC Kuni-kyō], to where it had been relocated\n",
      "It was named for explorer [PER Christopher Columbus]\n",
      "These alleged apostates included leaders of [MISC Muslim] countries, since they failed to enforce \"sharia\" law\n",
      "The short film \"[MISC Alien Love Triangle]\" remains a 30-minute short film, and has never been released\n",
      "The village of [LOC Chenega] was transformed into an emergency base and media outlet\n",
      "It featured even more polished production, and continued the trend of the lead vocals extensively shared between members, although [PER Allen Lanier] did not sing lead\n",
      "The upper-level ramps on the [LOC Queens] end of the bridge were built during the same time\n",
      "A detailed listing of confirmed events was available on the website of the [ORG IEEE Information Theory Society]\n",
      "Since 1981, the municipality of [LOC Amsterdam] has gradually been divided into semi-autonomous boroughs, called \"stadsdelen\" or 'districts'\n",
      "The [LOC Kingdom of Kongo] existed from the 14th to the early 19th century\n",
      "With respect to real property, mechanic's liens are purely statutory devices that exist in every state (although in [LOC California], as noted below, they have a constitutional foundation)\n",
      "The rest of the teams were created \"ex novo\" as expansion teams or as charter members of the [ORG World Hockey Association], which merged with the [ORG NHL] in 1979\n",
      "[PER Andrew], who had postponed the crusade at least three times (in 1201, 1209 and 1213), finally agreed\n",
      "In [MISC Early Modern English], the word \"kitten\" was interchangeable with the now-obsolete word \"catling\"\n",
      "He obtained a degree in [ORG Economics] in 1976\n",
      "It is situated south-west of [LOC Bodmin Moor]\n",
      "It was awarded a gold disc in August 1977 by the [ORG BPI]\n",
      "There were homosexual castrati, as [PER Casanova]'s accounts of 18th - century [LOC Italy] bear witness\n",
      "to show [PER Jimmy Kimmel], her boyfriend at the time, a special video\n",
      "At its height it encompassed an area covering not only most of [LOC Chad], but also parts of southern [LOC Libya] ([LOC Fezzan]) and eastern [LOC Niger], northeastern [LOC Nigeria] and northern [LOC Cameroon]\n",
      "In 2019, homosexual acts were decriminalized in [LOC Angola], and the government also prohibited discrimination based on sexual orientation\n",
      "While strong forms of the various dialects are not fully mutually intelligible to northern [MISC Germans], communication is much easier in [LOC Bavaria], especially rural areas, where the [MISC Bavarian] [MISC dialect] still predominates as the mother tongue\n",
      "[MISC K10] processors came in dual-core, quad-core, and [MISC Spider] versions, with all cores on a single die\n",
      "The novel spent forty-six weeks on \"[ORG The New York Times]\" [MISC Best Seller List], including twenty-two weeks at number one\n",
      "In 1994, he became the head coach of the [ORG St. Petersburg Kickers]\n",
      "Megalithic tomb building continued into the [MISC Bronze Age] when metal began to be used for tools alongside the stone tools\n",
      "He turned down [PER W. S. Gilbert]'s offer of a collaboration, and wrote only two stage works between 1898 and 1914\n",
      "By late 2006, [ORG HP] had retaken the #1 sales position of PCs from [ORG Dell], which struggled with missed estimates and poor quality, and held that rank until supplanted in the mid-2010s by [ORG Lenovo]\n",
      "In his keynote address at the 2015 [MISC South by Southwest] music festival, he blamed [LOC Los Angeles]'s explosion of gang violence in the 1980s on the economic policies of [PER Ronald Reagan], and insinuated that his administration shipped guns and drugs into the area\n",
      "An attempt to advance into northern [LOC Germany] spearheaded by a major airborne operation in the [LOC Netherlands] failed\n",
      "Thirteen were built; two variants were also developed, including three of the [MISC YF-12] interceptor prototype, and two of the [MISC M-21] drone carrier\n",
      "Now see [MISC Neritoidea]\n",
      "He scored a twice in first match of the season, in [LOC Split] against [ORG RNK Split] and helping club to reach first victory in the season, 4 – 2\n",
      "The [LOC Port of Cape Town], the city's main port, is in [LOC Table Bay] directly to the north of the CBD\n",
      "There, she had a good start, defeating [PER Samantha Stosur] in the first round\n",
      "The [LOC Circus World Museum] houses life-size figures of the twins\n",
      "Despite a decline in adherence in the [ORG West], [MISC Christianity] remains the dominant religion in the region, with about 70% of the population identifying as [MISC Christian]\n",
      "He provided the new church with land in [LOC Canterbury], thus establishing one of the foundation stones of what ultimately became the [ORG Anglican Communion]\n",
      "Further mention of events in [LOC Kent] occurs in the late sixth century history of the [MISC Franks] by [PER Gregory of Tours]\n",
      "In 2025 [MISC Dutch] is in his late 70's, but his life has been extended unintentionally by administering him with captured predator medical-tech\n",
      "His contract was selected from the [ORG Lehigh Valley IronPigs] on June 27\n",
      "Originally scheduled for April 8, 1968, the [MISC 40th Academy Awards] ceremony was postponed for two days, because of the assassination of Dr. [PER Martin Luther King, Jr.]\n",
      "[LOC I-185] runs north about from its beginning to a junction with [LOC I-85] just east of [LOC LaGrange] and southwest of [LOC Atlanta]\n",
      "In 2000, she appeared in \"[MISC Things You Can Tell Just by Looking at Her]\" and \"[MISC Bash: Latter-Day Plays]\", later accompanying [PER Eve Ensler] to [LOC Kenya] in order to protest violence against women, particularly female genital mutilation\n",
      "Although a minor character in \"[MISC The Last Battle]\", much of the closing chapter is seen from her point of view\n",
      "\"Eristicophis\" is a monotypic genus created for the venomous viper species, \"Eristicophis macmahonii\", which is endemic to the desert region of [LOC Balochistan] near the borders of [LOC Iran], [LOC Pakistan], and [LOC Afghanistan]\n",
      "The [MISC Protestant] parishes preferred lateral churches, in which all the visitors could be as close as possible to the pulpit and the altar\n",
      "The final hit of his career came later that game, an RBI single against [PER Rollie Fingers] that snapped a 7 – 7 tie in the 12th inning\n",
      "In terms of GDP per capita [ORG Eurasian Economic Union] expects [LOC Armenia] to surpass neighboring [LOC Georgia] in 2019 and neighboring [LOC Azerbaijan] in 2020\n",
      "The cyborg ninja suit has been donned by multiple characters, most recently by the character [PER Raiden] in \"[MISC Metal Gear Solid 4: Guns of the Patriots]\"\n",
      "It spawned a sequel: \"[MISC The Whole Ten Yards]\" in 2004\n",
      "However, [LOC Wales] dropped off after the 60th minute, conceding three tries to lose the game 39 – 21\n",
      "Unlike in [LOC North America], where an average of two people a year are killed by bears, [LOC Scandinavia] only has records of three fatal bear attacks within the last century\n",
      "Most of the land just south of the dam and its immediate lakeshore is part of [LOC Pickwick Landing State Park], and [LOC Shiloh National Military Park] is located a few miles to the north\n",
      "In 2013, damage caused by a sniper attack at an electrical substation in [LOC California] threatened power distribution throughout [LOC Silicon Valley]\n",
      "[PER Ira Gershwin], as heir to his brother, consistently refused to permit these productions to be staged\n",
      "However, [ORG Issas] are predominate in the government, civil service, and the ruling party\n",
      "He also made generous donations of \"jagirs\" to many temples to gain the goodwill of his [MISC Hindu] subjects\n",
      "The [ORG Allentown Symphony Orchestra], conducted by [PER Diane Wittry] since 1995, performs fall through spring at the historic [LOC Miller Symphony Hall]\n",
      "they received their insignia from Queen [PER Elizabeth II] at an investiture at [LOC Buckingham Palace] on 26 October\n",
      "In rugby union, [ORG Saracens F.C.] incorporates the crescent and star in its club emblem\n",
      "In [MISC Prakrit] and [MISC Pāli], it is rendered \"dhamma\"\n",
      "The game then shifts forward eight months, by which time the [ORG Predators] have established a camp around the artifact\n",
      "In the beginning, the [ORG Enosis] movement had only few supporters mainly from the upper classes\n",
      "By comparison the [MISC Harvard Mark I] could perform the same task in just six seconds\n",
      "However the [MISC Indo-European] component of [PER Apollo] does not explain his strong relation with omens, exorcisms, and with the oracular cult\n",
      "Further success followed in 1732 with his play \"[MISC Zaïre]\", which when published in 1733 carried a dedication to [PER Fawkener] praising [MISC English] liberty and commerce\n",
      "This was a key turning point in the [MISC Battle of the Atlantic], enabling the [ORG Royal Air Force], the [ORG U.S. Army Air Forces], and the [ORG U.S. Navy] to provide aerial coverage in the [LOC Mid-Atlantic] gap\n",
      "The following season saw him named as the club's player of the season, but he was then released by new manager [PER Keith Curle]\n",
      "This type of vessel came to be known as the \"battlecruiser\", and the first were commissioned into the [ORG Royal Navy] in 1907\n",
      "His cousins included the composer [PER Nicolas Nabokov]\n",
      "These snippets of [MISC SQL] code can address external data sources through the use of [MISC ODBC] connections on the local machine\n",
      "Nearly half (52%) of the empire's railways were built in [LOC Hungary], thus the railroad density there became higher than that of [LOC Cisleithania]\n",
      "Otherwise, the changes must be reevaluated manually when [MISC Emacs] is restarted\n",
      "While there, he initiated an important series of historical monographs on the history of [LOC Malaya], publishing the first in 1960\n",
      "In 1850 it was declared a free trade port, with the liquor, salt, arms, and opium trades developing duties as it won all the coffee trade from [LOC Mokha]\n",
      "His emphasis on placing his own work on a par with the [MISC Qur'an] led conservative clerics to accuse him of \"shirk\", furthering their opposition to his regime\n",
      "The most consumed carbonated soft drinks are produced by three major global brands: [ORG Coca-Cola], [ORG PepsiCo] and the [ORG Dr Pepper Snapple Group]\n",
      "He is still able to have sexual intercourse but is sterile due to an infection caught in [LOC Burma]\n",
      "In the following event (a pursuit), he was beaten at the finish line by teammate [PER Emil Hegle Svendsen], but won the pursuit cup\n",
      "In 2017 [ORG Premier Bank] from [LOC Mogadishu] opened a branch in [LOC Hargeisa]\n",
      "His brothers [PER Enrique] and [PER Jesús] were also active in politics\n",
      "Statistical detections of inactive comet nuclei in the [LOC Kuiper] belt have been reported from observations by the [MISC Hubble Space Telescope] but these detections have been questioned\n",
      "It was formed during the [MISC Holocene] period\n",
      "The 1895 pastel-on-board version of the work, owned by [MISC Norwegian] businessman [PER Petter Olsen], sold at [LOC Sotheby's] in [LOC London] for a record price of nearly [LOC US] $120 million at auction on 2 May 2012\n",
      "302 batting average in 1924 and, in a year-end poll of major league baseball players, he was a near-unanimous selection as the best third baseman in the [ORG American League]\n",
      "[LOC Colorado] has recorded 525 earthquakes since 1973, a majority of which range 2to 3.5 on the Richter scale\n",
      "[LOC Estonia] is a flat country covering\n",
      "In 2006, openly gay rabbinic candidates were also to be admitted into the [ORG JTS]\n",
      "Four wheels were recorded in 1895, and a set of tilt hammers from the site were rescued and moved to [LOC Abbeydale Industrial Hamlet]\n",
      "[PER Nicholas] was born in January 1962\n"
     ]
    }
   ],
   "source": [
    "for i in range(200):\n",
    "    text = training_data['text'][i]\n",
    "    ner = training_data['NER'][i]\n",
    "    s = stringify_labeled_doc(text, ner)\n",
    "    print(s)\n"
   ]
  },
  {
   "cell_type": "markdown",
   "metadata": {
    "id": "0YMAffHm7CRW"
   },
   "source": [
    "#### Q1.1: Using the `stringify_labeled_doc` function you implemented, print 5 documents (sentences) from the training data which have at least 4 distinct tags (including 'O'). What do you notice?"
   ]
  },
  {
   "cell_type": "code",
   "execution_count": 8,
   "metadata": {
    "id": "hPHzp5l07CRX"
   },
   "outputs": [
    {
     "name": "stdout",
     "output_type": "stream",
     "text": [
      "Cutting the skin into strips, she laid out her claim and founded an empire that would become, through the [MISC Punic Wars], the only existential threat to [LOC Rome] until the coming of the [PER Vandals] several centuries later\n",
      "The [LOC Chatham] oystercatcher is endemic to the [LOC Chatham Islands] of [LOC New Zealand] but is listed as endangered by the [ORG IUCN], while both the [MISC African] and [MISC Eurasian] oystercatchers are considered near threatened\n",
      "He then moved to the [ORG Deutsche Eishockey Liga] in [LOC Germany] for [ORG ERC Ingolstadt] and then to the [MISC Elitserien] in [LOC Sweden] for [ORG Leksands IF]\n",
      "In his keynote address at the 2015 [MISC South by Southwest] music festival, he blamed [LOC Los Angeles]'s explosion of gang violence in the 1980s on the economic policies of [PER Ronald Reagan], and insinuated that his administration shipped guns and drugs into the area\n",
      "Further mention of events in [LOC Kent] occurs in the late sixth century history of the [MISC Franks] by [PER Gregory of Tours]\n"
     ]
    }
   ],
   "source": [
    "# YOUR CODE HERE\n",
    "count = 0\n",
    "\n",
    "for i in range(7000):\n",
    "    text = training_data['text'][i]\n",
    "    ner = training_data['NER'][i]\n",
    "    tags = [x.split(\"-\")[-1] for x in ner]\n",
    "    if len(list(set(tags))) >= 4:\n",
    "        s = stringify_labeled_doc(text, ner)\n",
    "        print(s)\n",
    "        count += 1\n",
    "    if count == 5:\n",
    "        break\n"
   ]
  },
  {
   "cell_type": "markdown",
   "metadata": {},
   "source": [
    "### <mark>Q1.1 Answer</mark>\n",
    "\n",
    "I noticed that in most cases, each word in a named entity is capitalized, which makes sense because they are supposed to be proper nouns. Also, most entities are only 1-3 words long. Additionally, even in sentences where there are more than 3 kinds of named entities, most of the tokens in the sentence are still tagged as \"O\", meaning they are not part of an entity. Therefore, it seems that the dataset is quite unbalanced and biased towards \"O\" tokens. Finally, I also noticed that a many named entities (though not all) follow prepositions such as \"by\", \"of\", \"for\", \"in\", and \"to\". This may be helpful in the NER task because prepositions are a closed class of words, so the model may be able to quickly learn all of them. "
   ]
  },
  {
   "cell_type": "markdown",
   "metadata": {
    "id": "H45c58Vr7CRX"
   },
   "source": [
    "### Validating the data\n",
    "\n",
    "This data looks okay, _right?_ ... _right?_ The reality is that language data is\n",
    "super messy. One option would be to look through every example by hand, but this\n",
    "is impractical. Another option would be to write a program that could check if\n",
    "each example is correct, but if you could do that, you wouldn't need to write\n",
    "the program to do NER tagging in the first place! However, there is a middle\n",
    "ground. If you had a programatic way to check the validity of the data, you\n",
    "could catch some of these issues. Let's try to do that.\n",
    "\n",
    "#### Q1.2: Implement the `validate_ner_sequence` function in `data_exploration.py` Are there any documents in the training data which have invalid labelings? If so, how many are there?\n",
    "\n",
    "Hint: Think about what makes a valid sequence of labels under the BIO tagging scheme."
   ]
  },
  {
   "cell_type": "code",
   "execution_count": 9,
   "metadata": {},
   "outputs": [
    {
     "name": "stdout",
     "output_type": "stream",
     "text": [
      "['O', 'B-LOC', 'O', 'O', 'O', 'O', 'O', 'B-LOC', 'I-LOC', 'O', 'B-LOC', 'I-LOC', 'O', 'O', 'O', 'O', 'O', 'O', 'O', 'B-ORG', 'O', 'O', 'O', 'O', 'I-MISC', 'O', 'I-MISC', 'O', 'O', 'O', 'O', 'O']\n",
      "['O', 'O', 'O', 'O', 'O', 'O', 'O', 'O', 'O', 'O', 'O', 'O', 'O', 'O', 'O', 'O', 'O', 'O', 'O', 'O', 'O', 'O', 'O', 'O', 'O', 'O', 'O', 'O', 'I-MISC', 'I-MISC', 'I-MISC', 'I-MISC', 'O', 'O', 'B-PER', 'I-PER', 'I-PER', 'I-PER']\n",
      "['O', 'O', 'O', 'O', 'O', 'O', 'O', 'O', 'O', 'O', 'O', 'O', 'O', 'O', 'I-MISC', 'O', 'O', 'O', 'O', 'O', 'O', 'B-LOC', 'O', 'O', 'O', 'O', 'O', 'O', 'O', 'B-MISC', 'B-MISC', 'O', 'O', 'O', 'O', 'O', 'O']\n",
      "['O', 'O', 'O', 'O', 'O', 'O', 'O', 'B-ORG', 'I-ORG', 'I-ORG', 'I-ORG', 'O', 'I-MISC', 'I-MISC', 'I-MISC', 'O', 'O', 'O', 'O', 'O', 'O', 'O']\n",
      "['O', 'O', 'O', 'O', 'O', 'O', 'O', 'O', 'O', 'I-MISC', 'O', 'O', 'O', 'O', 'O', 'O', 'O', 'O', 'O', 'O', 'O', 'B-PER', 'O', 'I-MISC', 'O', 'O', 'O']\n",
      "['O', 'O', 'O', 'O', 'O', 'O', 'O', 'O', 'I-MISC', 'I-MISC', 'I-MISC', 'I-MISC', 'O', 'O', 'O', 'B-ORG', 'I-ORG', 'I-ORG', 'O', 'O', 'B-ORG', 'I-ORG', 'I-ORG', 'I-ORG', 'O', 'O', 'O', 'B-ORG', 'I-ORG', 'O', 'O', 'O', 'O', 'O', 'O', 'B-LOC', 'O']\n",
      "['O', 'O', 'O', 'O', 'O', 'O', 'O', 'O', 'O', 'O', 'I-MISC', 'O', 'B-PER', 'I-PER', 'O', 'O', 'O', 'B-LOC', 'I-LOC', 'O', 'B-LOC', 'O', 'O', 'O', 'O', 'O', 'O', 'B-LOC', 'O', 'O', 'O', 'O', 'O', 'O', 'O', 'O', 'O']\n",
      "['O', 'O', 'O', 'O', 'O', 'O', 'O', 'O', 'I-MISC', 'I-MISC', 'I-MISC', 'O', 'B-LOC', 'I-LOC', 'O', 'B-LOC', 'I-LOC', 'O', 'O', 'O', 'O', 'I-MISC', 'O', 'O', 'O', 'B-LOC', 'O', 'B-LOC']\n",
      "['O', 'O', 'O', 'O', 'O', 'B-MISC', 'O', 'O', 'O', 'O', 'O', 'O', 'O', 'O', 'I-MISC', 'O', 'O', 'O']\n",
      "['O', 'O', 'O', 'O', 'O', 'O', 'O', 'O', 'O', 'I-MISC', 'O', 'B-LOC', 'O', 'O', 'O', 'O', 'O', 'B-LOC']\n",
      "['O', 'O', 'O', 'O', 'O', 'O', 'O', 'O', 'O', 'O', 'O', 'O', 'O', 'O', 'O', 'O', 'O', 'O', 'O', 'O', 'I-MISC', 'I-MISC', 'O', 'O', 'O', 'O', 'O', 'O', 'O', 'O', 'O', 'O', 'O', 'B-MISC', 'I-MISC', 'I-MISC', 'I-MISC', 'I-MISC', 'I-MISC', 'O', 'O', 'B-MISC', 'I-MISC', 'O', 'B-MISC', 'O', 'B-MISC']\n",
      "['O', 'O', 'O', 'O', 'O', 'O', 'O', 'O', 'O', 'O', 'I-MISC', 'I-MISC', 'O', 'O', 'O', 'O', 'O', 'O', 'O', 'O', 'I-MISC', 'I-MISC', 'O', 'O', 'O', 'O', 'O', 'O', 'O', 'O', 'O', 'O', 'I-MISC', 'O', 'O', 'B-LOC', 'O', 'B-LOC']\n",
      "['O', 'O', 'O', 'O', 'B-MISC', 'O', 'O', 'B-LOC', 'O', 'O', 'O', 'I-MISC', 'O', 'O', 'O', 'B-LOC', 'O', 'O', 'O', 'O', 'O', 'O', 'B-LOC', 'O', 'O', 'O', 'O', 'O', 'O', 'B-LOC', 'O', 'O', 'O', 'O', 'O', 'B-LOC', 'O', 'O', 'O', 'O', 'O', 'O', 'O', 'B-MISC', 'O', 'O', 'O', 'O', 'B-LOC', 'I-LOC', 'O', 'O', 'B-LOC', 'O', 'B-LOC', 'O', 'B-LOC', 'O', 'O', 'O', 'O', 'O', 'B-LOC', 'O', 'O', 'O', 'O']\n",
      "['O', 'O', 'O', 'O', 'O', 'O', 'I-MISC', 'I-MISC', 'I-MISC', 'O', 'O', 'O', 'O', 'O', 'O', 'O', 'O', 'O', 'B-PER', 'I-PER', 'O', 'O', 'O', 'B-PER', 'I-PER', 'O', 'O', 'O', 'O', 'O', 'O']\n",
      "['O', 'B-LOC', 'O', 'O', 'O', 'O', 'I-MISC', 'O', 'O', 'B-LOC', 'O', 'O', 'O', 'O', 'O', 'O', 'O', 'O', 'O', 'O', 'I-MISC', 'O', 'O', 'B-LOC']\n",
      "['O', 'O', 'O', 'O', 'O', 'O', 'O', 'O', 'O', 'O', 'O', 'O', 'O', 'O', 'O', 'O', 'O', 'B-MISC', 'O', 'B-MISC', 'O', 'B-MISC', 'O', 'I-MISC', 'O', 'O', 'O', 'O', 'O']\n",
      "['O', 'O', 'O', 'O', 'O', 'O', 'O', 'O', 'O', 'I-MISC', 'O', 'O', 'O', 'O', 'B-LOC', 'I-LOC', 'O', 'O', 'O', 'O', 'O', 'O', 'I-MISC', 'I-MISC', 'I-MISC', 'I-MISC', 'I-MISC', 'O', 'O', 'O', 'O', 'O', 'O', 'O', 'O', 'B-ORG', 'O', 'O', 'O', 'O', 'O', 'O', 'B-LOC', 'I-LOC']\n",
      "['O', 'O', 'O', 'O', 'O', 'O', 'O', 'O', 'O', 'O', 'O', 'O', 'O', 'O', 'O', 'I-MISC', 'I-MISC', 'O', 'O', 'O', 'O', 'O', 'O', 'O', 'O', 'O', 'O', 'B-LOC', 'O', 'O', 'O', 'O', 'O', 'O', 'O', 'O', 'O', 'O', 'O', 'O', 'O', 'O', 'O', 'I-MISC', 'O', 'O', 'O', 'O', 'O', 'O', 'O', 'O', 'O', 'I-MISC', 'O']\n",
      "['O', 'I-MISC', 'O', 'O', 'O', 'O', 'B-PER', 'I-PER', 'O', 'O', 'O', 'O', 'O', 'O', 'O', 'O', 'O', 'O', 'O', 'O', 'O', 'O', 'O', 'O', 'O', 'O', 'O', 'O', 'O', 'O', 'O', 'O', 'O', 'O', 'O', 'O', 'O', 'O', 'O', 'O', 'O', 'O']\n",
      "['O', 'O', 'O', 'O', 'O', 'O', 'O', 'O', 'O', 'O', 'O', 'O', 'B-LOC', 'O', 'O', 'O', 'O', 'I-MISC', 'I-MISC', 'I-MISC']\n",
      "['O', 'O', 'O', 'O', 'O', 'O', 'O', 'O', 'O', 'O', 'O', 'O', 'O', 'O', 'O', 'B-ORG', 'O', 'O', 'O', 'O', 'O', 'O', 'O', 'O', 'O', 'O', 'O', 'O', 'O', 'O', 'I-MISC', 'I-MISC', 'O', 'O', 'B-PER', 'I-PER', 'O', 'O', 'O', 'O', 'O', 'O', 'O', 'O', 'O', 'O', 'O', 'O', 'O', 'B-ORG']\n",
      "['O', 'O', 'O', 'O', 'O', 'O', 'O', 'O', 'O', 'O', 'O', 'O', 'O', 'O', 'O', 'O', 'O', 'O', 'O', 'O', 'O', 'O', 'O', 'O', 'O', 'O', 'O', 'O', 'O', 'O', 'O', 'O', 'O', 'O', 'O', 'I-MISC', 'I-MISC', 'O', 'O', 'O', 'O', 'O', 'O', 'O', 'O', 'O', 'I-MISC', 'I-MISC', 'I-MISC', 'O', 'O', 'O', 'O', 'O', 'O', 'O', 'O', 'O', 'O', 'O', 'O', 'O', 'O', 'O', 'O', 'O', 'O', 'B-ORG', 'I-ORG', 'I-ORG', 'O', 'O', 'O', 'O', 'O', 'O', 'O', 'O', 'I-MISC', 'O', 'O', 'O', 'I-MISC', 'I-MISC', 'O', 'O', 'O', 'O', 'O', 'O', 'O', 'O', 'O', 'O', 'O', 'O', 'O', 'O', 'O', 'O', 'O', 'O', 'O', 'O', 'O', 'O', 'O', 'O', 'O', 'O', 'O', 'O', 'O']\n",
      "['O', 'O', 'O', 'O', 'O', 'O', 'O', 'O', 'O', 'O', 'O', 'O', 'O', 'O', 'O', 'O', 'O', 'O', 'O', 'O', 'O', 'O', 'O', 'O', 'B-ORG', 'I-ORG', 'O', 'O', 'I-MISC', 'I-MISC', 'I-MISC', 'I-MISC', 'I-MISC', 'I-MISC', 'I-MISC', 'I-MISC', 'O', 'O', 'O', 'O', 'O', 'O', 'O', 'O', 'O', 'O', 'O', 'O', 'O']\n",
      "['O', 'O', 'O', 'O', 'O', 'O', 'O', 'O', 'O', 'O', 'O', 'O', 'O', 'B-MISC', 'O', 'O', 'O', 'B-LOC', 'I-LOC', 'O', 'I-MISC', 'O', 'O', 'O', 'O', 'O', 'I-MISC', 'O']\n",
      "['O', 'O', 'O', 'O', 'O', 'O', 'O', 'O', 'O', 'O', 'O', 'O', 'O', 'O', 'O', 'O', 'O', 'O', 'B-LOC', 'I-LOC', 'O', 'O', 'B-LOC', 'I-LOC', 'O', 'O', 'B-LOC', 'I-LOC', 'O', 'I-MISC', 'O', 'O', 'O', 'O', 'O', 'O', 'O', 'O', 'O', 'O', 'O', 'O', 'O', 'O', 'O']\n",
      "['O', 'O', 'O', 'O', 'O', 'O', 'O', 'O', 'O', 'O', 'O', 'O', 'O', 'O', 'O', 'O', 'O', 'O', 'O', 'O', 'O', 'I-MISC', 'O', 'O', 'O', 'O', 'O', 'O', 'O', 'O', 'O', 'O', 'O', 'O', 'O', 'O', 'O', 'O', 'O', 'O', 'O', 'O', 'O', 'B-PER', 'O', 'B-PER', 'O', 'O', 'O', 'O', 'B-ORG', 'O', 'O', 'O', 'O', 'O', 'O', 'O', 'O', 'O', 'O', 'O', 'O', 'O', 'O', 'O', 'O', 'O', 'O', 'O', 'O', 'O', 'O']\n",
      "['O', 'O', 'O', 'O', 'O', 'O', 'O', 'B-LOC', 'I-LOC', 'O', 'O', 'O', 'O', 'O', 'O', 'O', 'O', 'O', 'O', 'O', 'O', 'O', 'O', 'O', 'I-MISC', 'O', 'O', 'B-PER']\n",
      "['O', 'O', 'O', 'O', 'O', 'B-ORG', 'O', 'O', 'O', 'O', 'O', 'B-PER', 'I-PER', 'O', 'O', 'O', 'O', 'I-MISC', 'I-MISC', 'O']\n",
      "['O', 'O', 'O', 'O', 'O', 'O', 'O', 'O', 'O', 'O', 'O', 'O', 'B-LOC', 'I-LOC', 'O', 'B-PER', 'I-PER', 'O', 'O', 'O', 'O', 'O', 'I-MISC', 'I-MISC', 'O', 'O', 'O', 'O', 'O', 'O', 'I-MISC', 'I-MISC', 'I-MISC', 'O']\n",
      "['O', 'O', 'O', 'O', 'O', 'I-MISC', 'O', 'O', 'B-LOC', 'O', 'B-LOC', 'O', 'O', 'O', 'O', 'O', 'I-MISC', 'I-MISC', 'I-MISC', 'O', 'O', 'O', 'O', 'O', 'O', 'O', 'B-ORG', 'I-ORG', 'O', 'O', 'I-MISC', 'O']\n",
      "['B-PER', 'I-PER', 'O', 'O', 'O', 'O', 'O', 'O', 'O', 'O', 'O', 'O', 'O', 'O', 'O', 'O', 'O', 'O', 'O', 'O', 'O', 'O', 'O', 'I-MISC', 'I-MISC', 'I-MISC', 'I-MISC', 'O', 'O', 'O', 'O', 'O']\n",
      "['B-MISC', 'O', 'O', 'O', 'O', 'O', 'O', 'O', 'O', 'O', 'O', 'O', 'O', 'O', 'O', 'O', 'O', 'O', 'O', 'O', 'O', 'O', 'O', 'O', 'O', 'O', 'O', 'O', 'O', 'O', 'O', 'O', 'I-MISC']\n",
      "['O', 'O', 'I-MISC', 'I-MISC', 'I-MISC', 'O', 'O', 'O', 'O', 'O', 'B-LOC', 'O', 'O', 'O', 'O', 'O', 'O', 'O', 'O', 'O', 'O', 'O', 'O', 'O', 'O', 'O', 'O', 'O', 'O', 'O', 'O']\n",
      "['O', 'B-MISC', 'O', 'O', 'O', 'O', 'O', 'O', 'O', 'O', 'O', 'B-MISC', 'O', 'O', 'O', 'O', 'O', 'O', 'O', 'O', 'O', 'O', 'O', 'O', 'O', 'O', 'O', 'B-PER', 'I-PER', 'O', 'O', 'B-ORG', 'I-ORG', 'O', 'O', 'O', 'O', 'I-MISC', 'O', 'O', 'O', 'O', 'O', 'O', 'O', 'B-PER', 'I-PER', 'O', 'B-PER', 'I-PER', 'O', 'O', 'O']\n",
      "['O', 'O', 'O', 'O', 'O', 'O', 'O', 'O', 'O', 'O', 'I-MISC', 'O', 'B-ORG', 'I-ORG', 'O', 'O']\n",
      "['O', 'O', 'O', 'O', 'O', 'O', 'O', 'O', 'O', 'O', 'O', 'O', 'O', 'O', 'I-MISC', 'O', 'O', 'O', 'O', 'B-LOC']\n",
      "['O', 'O', 'O', 'O', 'O', 'B-ORG', 'O', 'O', 'O', 'O', 'O', 'O', 'O', 'O', 'O', 'O', 'O', 'O', 'O', 'O', 'O', 'O', 'I-MISC', 'I-MISC', 'O']\n",
      "['O', 'O', 'O', 'O', 'O', 'O', 'O', 'O', 'O', 'O', 'O', 'O', 'O', 'O', 'O', 'O', 'O', 'O', 'I-MISC', 'I-MISC', 'I-MISC', 'O', 'O', 'O', 'I-MISC', 'I-MISC', 'O', 'B-LOC', 'I-LOC', 'O']\n",
      "['O', 'B-MISC', 'O', 'O', 'O', 'O', 'O', 'O', 'O', 'O', 'O', 'O', 'O', 'O', 'O', 'O', 'I-MISC', 'O', 'O', 'I-MISC', 'I-MISC', 'O', 'O', 'O', 'O', 'O', 'O', 'O', 'O']\n",
      "['O', 'O', 'O', 'O', 'O', 'B-ORG', 'O', 'O', 'O', 'B-ORG', 'O', 'O', 'O', 'I-MISC', 'I-MISC', 'O', 'O', 'O', 'O', 'O', 'O', 'O', 'O', 'O', 'O']\n",
      "['O', 'O', 'O', 'O', 'O', 'O', 'O', 'O', 'I-MISC', 'O', 'O', 'O', 'O', 'O', 'O', 'O', 'O', 'B-ORG', 'O', 'O']\n",
      "['O', 'O', 'O', 'O', 'B-LOC', 'I-LOC', 'O', 'O', 'O', 'O', 'O', 'O', 'O', 'O', 'O', 'O', 'O', 'O', 'I-MISC', 'I-MISC', 'O']\n",
      "['O', 'O', 'O', 'O', 'O', 'O', 'O', 'O', 'I-MISC', 'I-MISC', 'I-MISC', 'I-MISC', 'O', 'O', 'O', 'O', 'O', 'O', 'O', 'O', 'O', 'O', 'O', 'O', 'O', 'O', 'O', 'O', 'O', 'O', 'B-ORG', 'I-ORG']\n",
      "['O', 'O', 'O', 'O', 'O', 'B-ORG', 'O', 'O', 'O', 'O', 'O', 'O', 'O', 'O', 'O', 'O', 'O', 'O', 'O', 'O', 'O', 'O', 'O', 'O', 'O', 'O', 'O', 'I-MISC', 'O', 'O', 'O', 'O', 'B-ORG', 'O', 'O', 'B-ORG', 'I-ORG', 'I-ORG', 'O', 'O', 'O', 'O', 'O']\n",
      "['O', 'B-LOC', 'O', 'O', 'O', 'B-LOC', 'O', 'O', 'O', 'O', 'O', 'O', 'O', 'O', 'O', 'O', 'O', 'O', 'O', 'O', 'O', 'O', 'O', 'O', 'O', 'I-MISC', 'I-MISC', 'O', 'O', 'I-MISC', 'O', 'O', 'O', 'O', 'O', 'O', 'O', 'I-MISC', 'O']\n",
      "['O', 'O', 'O', 'O', 'O', 'O', 'B-LOC', 'O', 'O', 'O', 'O', 'O', 'O', 'O', 'O', 'O', 'O', 'O', 'O', 'O', 'O', 'O', 'O', 'O', 'O', 'O', 'O', 'O', 'O', 'O', 'O', 'O', 'O', 'O', 'O', 'O', 'O', 'O', 'O', 'O', 'O', 'O', 'O', 'O', 'O', 'O', 'O', 'O', 'O', 'O', 'O', 'O', 'O', 'O', 'O', 'O', 'O', 'O', 'O', 'O', 'O', 'O', 'O', 'O', 'O', 'O', 'O', 'O', 'O', 'O', 'O', 'I-MISC', 'O', 'I-MISC', 'O', 'O', 'O', 'O', 'O', 'O', 'O', 'O', 'O']\n",
      "['O', 'O', 'O', 'O', 'O', 'O', 'O', 'B-ORG', 'I-ORG', 'I-ORG', 'I-ORG', 'O', 'O', 'O', 'O', 'O', 'O', 'O', 'O', 'I-MISC', 'I-MISC', 'I-MISC']\n",
      "['O', 'O', 'O', 'B-MISC', 'O', 'O', 'O', 'O', 'O', 'O', 'O', 'O', 'O', 'O', 'O', 'O', 'O', 'O', 'O', 'O', 'O', 'O', 'O', 'O', 'O', 'O', 'O', 'O', 'O', 'I-MISC', 'O', 'O', 'O', 'O', 'O', 'O', 'O', 'O', 'O', 'O', 'O', 'O', 'O', 'O', 'O', 'O', 'O', 'O', 'O', 'O', 'O', 'O', 'O', 'O', 'O', 'O', 'O', 'O', 'O', 'O', 'O', 'O', 'O', 'O', 'O']\n",
      "['O', 'O', 'O', 'I-MISC', 'I-MISC', 'I-MISC', 'I-MISC', 'I-MISC', 'O', 'B-PER', 'I-PER', 'O', 'O', 'O', 'O', 'O', 'B-MISC', 'O', 'O']\n",
      "['O', 'O', 'O', 'O', 'O', 'O', 'I-MISC', 'O', 'O', 'O', 'O', 'O', 'O', 'B-PER', 'I-PER', 'O', 'O', 'O', 'I-MISC', 'O', 'O', 'I-MISC', 'O', 'O', 'B-PER']\n",
      "['O', 'O', 'O', 'O', 'O', 'O', 'O', 'O', 'O', 'B-ORG', 'O', 'O', 'O', 'O', 'O', 'O', 'B-MISC', 'O', 'O', 'O', 'O', 'O', 'O', 'O', 'O', 'O', 'I-MISC']\n",
      "['O', 'O', 'O', 'O', 'B-LOC', 'I-LOC', 'I-LOC', 'O', 'O', 'O', 'O', 'O', 'B-ORG', 'I-ORG', 'O', 'O', 'O', 'B-LOC', 'O', 'B-LOC', 'I-LOC', 'I-LOC', 'O', 'O', 'O', 'I-MISC', 'I-MISC']\n",
      "['O', 'O', 'O', 'B-MISC', 'I-MISC', 'I-MISC', 'I-MISC', 'O', 'O', 'O', 'O', 'O', 'O', 'B-MISC', 'I-MISC', 'I-MISC', 'I-MISC', 'O', 'O', 'O', 'O', 'O', 'O', 'B-MISC', 'I-MISC', 'I-MISC', 'I-MISC', 'I-MISC', 'O', 'O', 'O', 'O', 'O', 'O', 'B-MISC', 'I-MISC', 'I-MISC', 'I-MISC', 'I-MISC', 'O', 'O', 'O', 'O', 'O', 'O', 'I-MISC', 'O', 'O', 'O', 'O', 'O', 'O', 'B-MISC', 'I-MISC', 'O', 'O', 'O', 'O']\n",
      "['B-PER', 'O', 'O', 'O', 'O', 'O', 'O', 'O', 'O', 'B-PER', 'I-PER', 'I-PER', 'O', 'O', 'O', 'O', 'O', 'O', 'O', 'O', 'O', 'O', 'O', 'I-MISC', 'O', 'O', 'O', 'O', 'O', 'O', 'B-PER', 'O', 'O', 'O', 'B-PER', 'O', 'O', 'O']\n",
      "['O', 'O', 'O', 'O', 'O', 'O', 'O', 'O', 'O', 'O', 'O', 'O', 'O', 'O', 'O', 'I-MISC', 'O', 'O', 'O', 'O', 'O', 'B-LOC', 'O', 'O', 'O', 'O', 'O', 'O', 'B-LOC', 'O']\n",
      "['O', 'O', 'O', 'O', 'O', 'I-MISC', 'O', 'O', 'B-MISC', 'I-MISC', 'I-MISC', 'O', 'O', 'O', 'O', 'O']\n",
      "['O', 'O', 'O', 'O', 'O', 'O', 'O', 'I-MISC', 'O', 'O', 'B-MISC', 'O', 'B-MISC', 'O', 'O', 'O']\n",
      "['O', 'O', 'O', 'O', 'O', 'O', 'O', 'O', 'O', 'O', 'B-LOC', 'O', 'O', 'O', 'O', 'O', 'B-LOC', 'I-LOC', 'O', 'O', 'O', 'O', 'I-MISC', 'I-MISC', 'I-MISC', 'O', 'O', 'O']\n",
      "['O', 'O', 'O', 'O', 'O', 'O', 'O', 'O', 'O', 'O', 'O', 'O', 'O', 'O', 'O', 'I-MISC', 'I-MISC', 'I-MISC', 'O', 'O', 'I-MISC', 'I-MISC', 'I-MISC', 'O', 'O', 'O', 'O', 'O', 'O', 'O', 'O', 'O', 'O', 'O', 'O', 'B-PER', 'I-PER', 'O']\n",
      "['O', 'O', 'O', 'O', 'O', 'O', 'I-MISC', 'O', 'O', 'O', 'O', 'O', 'O', 'B-PER', 'I-PER', 'O', 'O', 'O', 'O', 'O', 'O', 'O', 'O']\n",
      "['O', 'O', 'O', 'O', 'O', 'O', 'O', 'O', 'O', 'O', 'I-MISC', 'O', 'O', 'B-PER', 'I-PER', 'O', 'O', 'O', 'O', 'O', 'O', 'I-MISC', 'O', 'O', 'O']\n",
      "['O', 'O', 'O', 'O', 'O', 'O', 'O', 'B-LOC', 'O', 'O', 'O', 'O', 'O', 'O', 'O', 'O', 'O', 'O', 'I-MISC', 'I-MISC', 'I-MISC', 'O', 'O', 'O', 'O', 'O', 'O', 'O', 'O', 'O', 'O', 'O', 'B-LOC', 'I-LOC', 'O', 'O', 'O', 'B-LOC', 'O', 'O', 'O', 'O', 'O', 'O', 'O', 'O', 'O']\n",
      "['O', 'O', 'O', 'O', 'O', 'O', 'O', 'O', 'O', 'B-PER', 'I-PER', 'O', 'O', 'O', 'O', 'O', 'O', 'O', 'O', 'O', 'O', 'O', 'O', 'O', 'O', 'I-MISC', 'I-MISC', 'I-MISC', 'O']\n",
      "['O', 'I-MISC', 'I-MISC', 'O', 'O', 'O', 'O', 'O', 'O', 'O', 'B-LOC', 'I-LOC', 'O', 'O', 'O', 'I-MISC', 'O', 'O', 'O', 'O', 'O', 'O', 'O', 'O', 'O', 'O', 'O', 'O', 'O', 'O', 'O', 'O', 'O', 'O', 'O', 'O', 'O', 'O', 'O', 'O', 'O', 'O', 'O', 'O', 'O', 'O', 'O', 'O', 'O', 'O', 'O', 'O']\n",
      "['O', 'B-MISC', 'O', 'O', 'O', 'O', 'O', 'O', 'O', 'O', 'O', 'O', 'O', 'O', 'O', 'O', 'O', 'O', 'O', 'O', 'O', 'O', 'O', 'O', 'O', 'O', 'O', 'I-MISC', 'O']\n",
      "['O', 'O', 'B-PER', 'O', 'O', 'O', 'O', 'O', 'O', 'O', 'O', 'O', 'O', 'O', 'B-PER', 'O', 'O', 'O', 'O', 'O', 'O', 'O', 'O', 'O', 'O', 'O', 'O', 'O', 'O', 'O', 'O', 'O', 'O', 'O', 'O', 'O', 'O', 'O', 'O', 'O', 'O', 'O', 'O', 'O', 'O', 'O', 'O', 'O', 'O', 'O', 'O', 'O', 'O', 'O', 'O', 'O', 'O', 'O', 'O', 'O', 'I-MISC', 'O']\n",
      "['O', 'O', 'O', 'O', 'O', 'O', 'O', 'O', 'O', 'O', 'O', 'O', 'O', 'O', 'O', 'O', 'O', 'O', 'O', 'O', 'O', 'O', 'O', 'O', 'O', 'O', 'O', 'O', 'O', 'O', 'O', 'O', 'O', 'O', 'O', 'O', 'I-MISC', 'O', 'I-MISC', 'I-MISC', 'O', 'B-ORG', 'I-ORG', 'O', 'O', 'B-ORG', 'I-ORG', 'I-ORG', 'O', 'O', 'O', 'O', 'O', 'B-LOC', 'I-LOC', 'O', 'B-LOC', 'I-LOC', 'O', 'B-LOC']\n",
      "['O', 'O', 'O', 'O', 'O', 'O', 'O', 'O', 'O', 'O', 'O', 'O', 'O', 'O', 'O', 'O', 'O', 'B-PER', 'O', 'I-MISC', 'I-MISC', 'O', 'O', 'B-LOC', 'O', 'O', 'O']\n",
      "['O', 'O', 'O', 'O', 'O', 'O', 'O', 'O', 'O', 'O', 'O', 'O', 'O', 'O', 'O', 'O', 'O', 'O', 'O', 'B-ORG', 'O', 'O', 'O', 'O', 'O', 'O', 'I-MISC', 'I-MISC']\n",
      "['O', 'O', 'O', 'O', 'O', 'O', 'B-ORG', 'I-ORG', 'I-ORG', 'O', 'I-MISC', 'I-MISC']\n",
      "['O', 'O', 'O', 'O', 'O', 'O', 'I-MISC', 'I-MISC', 'O', 'O', 'O', 'O', 'O', 'O', 'O', 'O', 'O', 'B-MISC', 'O', 'O', 'O', 'O', 'O', 'O', 'O', 'O', 'O', 'O', 'O', 'O', 'B-LOC', 'O', 'B-LOC', 'O', 'B-LOC', 'O', 'B-LOC', 'O', 'B-LOC', 'O', 'B-LOC', 'O', 'B-LOC', 'O', 'O', 'B-LOC']\n",
      "['O', 'O', 'O', 'O', 'O', 'O', 'O', 'O', 'O', 'O', 'O', 'O', 'O', 'O', 'I-MISC', 'O', 'O', 'B-LOC', 'O', 'O', 'O', 'O', 'O', 'O', 'O', 'O', 'O', 'O', 'O', 'O', 'O', 'O', 'O', 'O', 'O', 'O', 'O', 'O', 'O', 'O', 'O', 'O', 'O', 'B-LOC', 'I-LOC', 'O', 'O', 'O', 'O', 'O', 'O', 'O', 'O', 'O', 'B-LOC', 'O', 'O', 'O', 'O', 'O', 'O', 'O', 'O', 'O', 'O', 'O', 'O', 'O', 'O']\n",
      "['O', 'O', 'O', 'O', 'O', 'O', 'O', 'B-LOC', 'O', 'O', 'O', 'O', 'O', 'O', 'B-LOC', 'O', 'O', 'O', 'O', 'O', 'O', 'O', 'O', 'O', 'I-MISC', 'O', 'I-MISC', 'O', 'O', 'O', 'O', 'O', 'O']\n",
      "['O', 'O', 'O', 'O', 'O', 'O', 'O', 'O', 'B-LOC', 'I-LOC', 'O', 'O', 'B-LOC', 'I-LOC', 'I-LOC', 'I-LOC', 'O', 'O', 'O', 'O', 'O', 'O', 'O', 'O', 'O', 'I-MISC', 'O', 'B-LOC', 'O', 'O', 'O', 'B-LOC', 'O', 'O', 'O', 'B-LOC', 'I-LOC']\n",
      "['O', 'O', 'O', 'O', 'O', 'O', 'O', 'O', 'O', 'B-LOC', 'I-LOC', 'I-LOC', 'O', 'O', 'B-PER', 'O', 'O', 'O', 'O', 'O', 'O', 'O', 'I-MISC', 'I-MISC', 'O', 'O', 'O', 'O', 'O']\n",
      "['O', 'O', 'O', 'O', 'O', 'O', 'B-MISC', 'I-MISC', 'O', 'O', 'O', 'O', 'O', 'I-MISC', 'O', 'O', 'O']\n",
      "['O', 'O', 'O', 'O', 'O', 'O', 'O', 'O', 'O', 'O', 'O', 'O', 'O', 'O', 'B-PER', 'I-PER', 'O', 'O', 'O', 'O', 'O', 'O', 'O', 'O', 'I-MISC', 'I-MISC']\n",
      "['O', 'O', 'O', 'O', 'O', 'O', 'B-MISC', 'O', 'O', 'O', 'I-MISC', 'O', 'O', 'O', 'O', 'O']\n",
      "['O', 'O', 'O', 'O', 'O', 'O', 'I-MISC', 'I-MISC', 'O', 'O', 'O', 'O', 'O', 'O', 'B-MISC', 'I-MISC', 'O', 'O', 'O', 'O', 'B-MISC', 'I-MISC', 'I-MISC', 'O', 'O', 'O', 'O', 'O', 'O', 'O', 'O', 'O', 'B-PER']\n",
      "['O', 'O', 'O', 'B-LOC', 'O', 'O', 'I-MISC', 'I-MISC', 'I-MISC', 'I-MISC', 'I-MISC', 'O', 'O', 'O', 'O', 'O', 'O', 'O', 'O']\n",
      "['O', 'O', 'O', 'O', 'O', 'O', 'B-LOC', 'O', 'O', 'O', 'O', 'O', 'O', 'O', 'O', 'O', 'O', 'O', 'O', 'O', 'O', 'O', 'O', 'O', 'O', 'O', 'I-MISC']\n",
      "['O', 'O', 'O', 'O', 'O', 'I-MISC', 'I-MISC', 'O', 'O', 'O', 'O', 'O', 'O', 'O', 'B-PER', 'I-PER', 'O', 'O', 'I-MISC', 'I-MISC', 'I-MISC', 'I-MISC', 'I-MISC', 'I-MISC', 'O', 'O', 'O', 'O', 'O', 'O', 'B-PER', 'I-PER', 'O', 'O', 'B-PER', 'I-PER', 'O', 'O', 'O', 'O', 'I-MISC', 'I-MISC', 'I-MISC', 'O', 'O', 'O', 'O', 'O', 'O', 'B-PER', 'I-PER', 'O', 'B-PER', 'I-PER', 'O', 'O', 'I-MISC', 'I-MISC', 'O', 'O', 'O', 'O', 'O', 'O', 'B-PER', 'I-PER', 'O', 'O', 'I-MISC', 'I-MISC', 'O', 'O', 'O', 'O', 'O', 'B-PER', 'I-PER']\n",
      "['O', 'O', 'O', 'O', 'O', 'O', 'O', 'O', 'B-LOC', 'O', 'O', 'B-LOC', 'O', 'O', 'O', 'I-MISC', 'I-MISC', 'I-MISC']\n",
      "['O', 'O', 'O', 'O', 'B-ORG', 'O', 'O', 'O', 'O', 'O', 'O', 'O', 'O', 'O', 'O', 'O', 'O', 'O', 'O', 'O', 'O', 'O', 'I-MISC', 'I-MISC', 'O', 'O', 'O', 'O', 'O', 'O', 'O']\n",
      "['O', 'O', 'B-ORG', 'O', 'O', 'O', 'O', 'O', 'O', 'O', 'I-MISC', 'O', 'O', 'O', 'O', 'O', 'O', 'O', 'O', 'O', 'O', 'O', 'O', 'O', 'O', 'O', 'B-LOC', 'I-LOC', 'O', 'O', 'O', 'O', 'B-ORG', 'O', 'O', 'O', 'O', 'O', 'O', 'O', 'O', 'O', 'O', 'O', 'O', 'B-LOC']\n",
      "['O', 'O', 'O', 'O', 'B-ORG', 'O', 'O', 'B-LOC', 'O', 'O', 'O', 'I-MISC', 'O', 'O', 'O', 'O', 'O', 'O', 'O', 'O', 'O']\n",
      "['O', 'O', 'O', 'O', 'O', 'O', 'O', 'B-PER', 'I-PER', 'O', 'O', 'I-MISC', 'I-MISC', 'I-MISC', 'O', 'O', 'O', 'I-MISC', 'I-MISC', 'O']\n",
      "['O', 'O', 'O', 'O', 'B-MISC', 'O', 'O', 'O', 'O', 'O', 'O', 'O', 'B-LOC', 'O', 'O', 'O', 'O', 'O', 'O', 'O', 'O', 'O', 'O', 'O', 'O', 'B-LOC', 'O', 'O', 'I-MISC', 'O', 'O', 'O', 'O', 'O', 'O', 'O', 'O', 'O']\n",
      "['B-PER', 'I-PER', 'O', 'O', 'O', 'O', 'O', 'O', 'O', 'O', 'I-MISC', 'O', 'O', 'O', 'O', 'O', 'O', 'B-ORG', 'I-ORG', 'O', 'O', 'O', 'O', 'O', 'O', 'O', 'O', 'O', 'O', 'O', 'O', 'O', 'O', 'O', 'O', 'O', 'O', 'O', 'O', 'O', 'O', 'O']\n",
      "['O', 'O', 'O', 'O', 'O', 'O', 'O', 'O', 'O', 'B-ORG', 'O', 'O', 'O', 'O', 'O', 'O', 'O', 'O', 'B-PER', 'I-PER', 'O', 'O', 'O', 'I-MISC', 'I-MISC', 'I-MISC', 'I-MISC']\n",
      "['B-MISC', 'I-MISC', 'I-MISC', 'I-MISC', 'I-MISC', 'I-MISC', 'O', 'O', 'O', 'O', 'O', 'O', 'O', 'O', 'O', 'O', 'O', 'O', 'O', 'I-MISC', 'O', 'O', 'O', 'O', 'O', 'O', 'B-PER', 'O', 'O', 'O']\n",
      "['O', 'O', 'O', 'O', 'O', 'O', 'O', 'O', 'O', 'O', 'O', 'B-ORG', 'O', 'O', 'O', 'I-MISC', 'O', 'O', 'O', 'O', 'O', 'B-ORG', 'O', 'O', 'I-MISC', 'O', 'O', 'O']\n",
      "['O', 'O', 'O', 'O', 'O', 'O', 'O', 'O', 'O', 'O', 'O', 'O', 'O', 'O', 'O', 'O', 'O', 'I-MISC', 'O', 'B-LOC', 'O', 'O', 'O', 'O', 'O', 'O']\n",
      "['O', 'O', 'O', 'O', 'O', 'O', 'O', 'O', 'O', 'O', 'O', 'O', 'I-MISC', 'I-MISC', 'O', 'O', 'O', 'O', 'B-MISC', 'I-MISC', 'I-MISC']\n",
      "['O', 'O', 'O', 'O', 'O', 'O', 'O', 'O', 'I-MISC', 'I-MISC', 'O', 'B-LOC', 'O', 'O', 'O', 'O', 'O', 'O']\n",
      "['O', 'O', 'O', 'O', 'O', 'O', 'O', 'O', 'O', 'O', 'O', 'O', 'O', 'O', 'O', 'B-PER', 'O', 'O', 'O', 'I-MISC', 'O', 'O']\n",
      "['O', 'O', 'O', 'O', 'O', 'O', 'O', 'O', 'I-MISC', 'I-MISC', 'I-MISC', 'O', 'O', 'O', 'O', 'I-MISC', 'I-MISC', 'O', 'O', 'O', 'I-MISC', 'I-MISC', 'O', 'O', 'O', 'O', 'O', 'O', 'O', 'O', 'O', 'O', 'B-LOC', 'O', 'B-LOC']\n",
      "['O', 'O', 'O', 'O', 'O', 'O', 'O', 'O', 'O', 'O', 'O', 'O', 'O', 'B-ORG', 'O', 'I-MISC', 'I-MISC', 'O', 'O', 'O', 'O', 'O', 'B-PER', 'O', 'O', 'O', 'O', 'O', 'O', 'O', 'O', 'O', 'O', 'O']\n",
      "['O', 'O', 'O', 'O', 'O', 'O', 'O', 'O', 'B-ORG', 'I-ORG', 'I-ORG', 'O', 'I-MISC', 'I-MISC']\n",
      "['O', 'O', 'O', 'O', 'O', 'O', 'O', 'O', 'O', 'O', 'O', 'O', 'O', 'O', 'B-ORG', 'I-ORG', 'I-ORG', 'O', 'B-ORG', 'I-ORG', 'I-ORG', 'I-ORG', 'I-ORG', 'I-ORG', 'I-ORG', 'O', 'O', 'O', 'O', 'O', 'O', 'O', 'O', 'O', 'O', 'O', 'O', 'O', 'O', 'O', 'O', 'O', 'O', 'O', 'O', 'O', 'O', 'O', 'O', 'I-MISC', 'I-MISC', 'I-MISC', 'I-MISC', 'I-MISC', 'O', 'O', 'O']\n",
      "['O', 'O', 'O', 'O', 'B-PER', 'I-PER', 'O', 'O', 'O', 'I-MISC', 'I-MISC', 'I-MISC']\n",
      "['B-LOC', 'O', 'O', 'O', 'O', 'O', 'O', 'O', 'O', 'B-ORG', 'I-ORG', 'O', 'O', 'O', 'O', 'I-MISC', 'I-MISC', 'I-MISC', 'O', 'O', 'O', 'O', 'O', 'O', 'B-ORG', 'I-ORG', 'O', 'O', 'O', 'O', 'I-MISC', 'I-MISC', 'I-MISC']\n",
      "['O', 'O', 'O', 'O', 'O', 'O', 'O', 'O', 'O', 'O', 'O', 'O', 'O', 'O', 'O', 'O', 'B-PER', 'O', 'O', 'O', 'O', 'O', 'O', 'O', 'O', 'O', 'O', 'B-PER', 'O', 'O', 'O', 'O', 'O', 'O', 'O', 'O', 'O', 'O', 'I-MISC', 'O', 'O', 'B-PER', 'O', 'O', 'O']\n",
      "['O', 'O', 'O', 'O', 'O', 'O', 'O', 'O', 'O', 'O', 'O', 'O', 'O', 'O', 'O', 'O', 'O', 'O', 'O', 'O', 'O', 'O', 'O', 'O', 'O', 'B-PER', 'O', 'O', 'O', 'O', 'O', 'O', 'O', 'I-MISC', 'I-MISC', 'I-MISC', 'I-MISC', 'I-MISC', 'I-MISC', 'O', 'O', 'O', 'I-MISC', 'I-MISC', 'I-MISC', 'I-MISC', 'I-MISC', 'I-MISC', 'I-MISC', 'O']\n",
      "['O', 'O', 'O', 'B-PER', 'O', 'B-PER', 'I-PER', 'O', 'O', 'O', 'B-PER', 'O', 'B-PER', 'O', 'O', 'O', 'O', 'O', 'O', 'O', 'B-PER', 'O', 'I-MISC']\n",
      "['O', 'O', 'O', 'O', 'O', 'O', 'O', 'B-PER', 'I-PER', 'O', 'O', 'O', 'O', 'O', 'O', 'O', 'O', 'O', 'O', 'O', 'I-MISC', 'I-MISC', 'I-MISC', 'O', 'O', 'O', 'O', 'O', 'O']\n",
      "['O', 'O', 'O', 'O', 'O', 'B-PER', 'O', 'O', 'O', 'O', 'O', 'O', 'O', 'B-PER', 'O', 'O', 'I-MISC', 'O', 'O', 'B-PER', 'O', 'B-LOC', 'O', 'O', 'O', 'O', 'O', 'O', 'O']\n",
      "['O', 'O', 'O', 'O', 'B-LOC', 'I-LOC', 'I-LOC', 'O', 'B-LOC', 'I-LOC', 'I-LOC', 'O', 'I-MISC', 'O', 'O', 'O', 'O', 'O', 'O', 'O', 'O', 'O', 'O', 'O', 'O', 'O', 'O']\n",
      "['O', 'O', 'O', 'O', 'O', 'B-ORG', 'I-ORG', 'O', 'O', 'O', 'O', 'O', 'O', 'O', 'O', 'O', 'O', 'O', 'O', 'O', 'O', 'O', 'O', 'O', 'O', 'O', 'O', 'O', 'O', 'O', 'O', 'O', 'O', 'O', 'O', 'I-MISC', 'O', 'O', 'O', 'O', 'O', 'O', 'O', 'O', 'O', 'O']\n",
      "['O', 'O', 'O', 'O', 'O', 'O', 'O', 'O', 'O', 'O', 'O', 'O', 'O', 'O', 'O', 'I-MISC', 'O', 'O', 'O', 'B-PER', 'O', 'O', 'O', 'I-MISC', 'O', 'O', 'O', 'B-ORG', 'O', 'O', 'O', 'B-PER', 'O']\n",
      "['O', 'O', 'O', 'O', 'O', 'O', 'O', 'O', 'O', 'O', 'O', 'O', 'O', 'O', 'O', 'B-PER', 'I-PER', 'O', 'O', 'O', 'O', 'I-MISC', 'I-MISC', 'I-MISC', 'I-MISC', 'O']\n",
      "['O', 'O', 'O', 'O', 'O', 'B-LOC', 'O', 'I-MISC', 'O', 'O', 'O', 'B-LOC', 'I-LOC']\n",
      "['O', 'B-MISC', 'O', 'O', 'O', 'O', 'O', 'O', 'O', 'O', 'O', 'O', 'O', 'O', 'O', 'O', 'O', 'O', 'I-MISC', 'O', 'O', 'O', 'O', 'O', 'O', 'O', 'O', 'O', 'I-MISC', 'O', 'O', 'O', 'O', 'O', 'O', 'O', 'O', 'O', 'I-MISC', 'O', 'O', 'O', 'I-MISC', 'O', 'O', 'O', 'I-MISC', 'O', 'O', 'O', 'I-MISC', 'O', 'O', 'O', 'I-MISC', 'O', 'O', 'O', 'I-MISC', 'O', 'O', 'O', 'I-MISC', 'I-MISC', 'O', 'O', 'O', 'O', 'O', 'O', 'O', 'O', 'O', 'O', 'O', 'O', 'B-ORG', 'I-ORG', 'O', 'O', 'O', 'O', 'O', 'O', 'O', 'O', 'O', 'O', 'O', 'O', 'O', 'O', 'O', 'O', 'O', 'O', 'O']\n",
      "['O', 'O', 'O', 'O', 'O', 'O', 'O', 'B-LOC', 'O', 'O', 'O', 'I-MISC', 'I-MISC', 'O', 'O', 'O', 'O', 'O', 'O']\n",
      "['O', 'O', 'O', 'O', 'O', 'O', 'O', 'B-PER', 'I-PER', 'O', 'O', 'O', 'O', 'O', 'O', 'O', 'O', 'O', 'O', 'O', 'B-LOC', 'O', 'O', 'O', 'O', 'O', 'O', 'O', 'O', 'O', 'O', 'O', 'O', 'O', 'O', 'O', 'O', 'I-MISC', 'I-MISC']\n",
      "['O', 'O', 'O', 'O', 'O', 'O', 'O', 'O', 'O', 'O', 'O', 'O', 'O', 'O', 'O', 'O', 'O', 'O', 'O', 'O', 'O', 'O', 'O', 'O', 'O', 'O', 'O', 'O', 'O', 'O', 'O', 'I-MISC', 'I-MISC', 'O', 'O', 'O', 'O', 'O', 'O', 'I-MISC', 'O', 'O', 'B-ORG', 'O', 'O', 'O', 'O', 'O', 'O', 'O', 'O']\n",
      "['O', 'O', 'O', 'O', 'O', 'O', 'O', 'O', 'O', 'O', 'I-MISC', 'O', 'O', 'O', 'B-PER', 'O', 'O', 'O', 'O', 'O', 'O', 'O', 'O', 'O', 'O', 'O', 'O', 'O', 'O', 'O', 'O', 'O', 'O', 'O', 'O']\n",
      "['O', 'O', 'O', 'O', 'O', 'O', 'O', 'O', 'O', 'O', 'O', 'O', 'O', 'O', 'O', 'O', 'O', 'O', 'O', 'O', 'O', 'O', 'O', 'O', 'I-MISC', 'I-MISC', 'I-MISC', 'I-MISC', 'O', 'O', 'B-PER', 'I-PER']\n",
      "['O', 'O', 'O', 'O', 'O', 'O', 'O', 'O', 'O', 'O', 'B-LOC', 'O', 'B-LOC', 'O', 'B-LOC', 'O', 'O', 'O', 'O', 'O', 'O', 'I-MISC', 'O', 'O', 'O', 'O', 'O', 'O', 'O', 'O', 'O', 'O']\n",
      "['O', 'O', 'O', 'O', 'O', 'O', 'B-PER', 'I-PER', 'O', 'O', 'O', 'O', 'O', 'O', 'B-LOC', 'O', 'O', 'O', 'O', 'O', 'O', 'I-MISC', 'O', 'O', 'O', 'O', 'O', 'O', 'B-PER', 'I-PER', 'O', 'O', 'O', 'B-ORG', 'I-ORG', 'O', 'O', 'O', 'I-MISC', 'I-MISC', 'I-MISC', 'O', 'O', 'O', 'O', 'O', 'O', 'O', 'I-MISC', 'I-MISC', 'O', 'O', 'O', 'O', 'O', 'O', 'I-MISC', 'I-MISC', 'I-MISC', 'I-MISC', 'O', 'O', 'O', 'O', 'O', 'O', 'I-MISC', 'I-MISC', 'O', 'O', 'O', 'O']\n",
      "['O', 'O', 'O', 'O', 'O', 'O', 'O', 'O', 'O', 'O', 'B-ORG', 'O', 'O', 'O', 'O', 'O', 'O', 'O', 'O', 'O', 'O', 'O', 'O', 'O', 'B-ORG', 'O', 'O', 'I-MISC', 'I-MISC', 'I-MISC', 'O', 'O', 'O', 'O', 'O', 'O', 'O']\n",
      "['O', 'O', 'O', 'O', 'O', 'O', 'O', 'O', 'O', 'O', 'O', 'O', 'O', 'O', 'O', 'O', 'O', 'O', 'O', 'O', 'O', 'O', 'O', 'O', 'O', 'O', 'I-MISC', 'O', 'B-PER', 'I-PER', 'I-PER']\n",
      "['O', 'O', 'O', 'O', 'I-MISC', 'O', 'O', 'O', 'O', 'O', 'O', 'B-PER', 'I-PER', 'O', 'O', 'O', 'O', 'O', 'O']\n",
      "['O', 'O', 'O', 'O', 'O', 'O', 'O', 'O', 'O', 'O', 'O', 'O', 'I-MISC', 'I-MISC', 'O', 'O', 'O', 'O', 'O', 'O', 'O', 'O', 'B-PER', 'I-PER', 'I-PER']\n",
      "['O', 'O', 'O', 'O', 'O', 'O', 'O', 'O', 'O', 'O', 'O', 'O', 'O', 'O', 'B-ORG', 'I-ORG', 'O', 'O', 'B-LOC', 'O', 'O', 'O', 'O', 'O', 'O', 'O', 'O', 'O', 'O', 'O', 'O', 'O', 'O', 'O', 'O', 'O', 'O', 'O', 'I-MISC', 'I-MISC']\n",
      "['O', 'O', 'O', 'O', 'O', 'B-LOC', 'O', 'B-PER', 'I-PER', 'O', 'O', 'I-MISC', 'I-MISC', 'I-MISC', 'I-MISC', 'O', 'O', 'O', 'O', 'I-MISC', 'I-MISC', 'I-MISC', 'I-MISC', 'I-MISC', 'I-MISC', 'O', 'O']\n",
      "['O', 'O', 'O', 'O', 'O', 'O', 'O', 'O', 'O', 'O', 'O', 'O', 'O', 'O', 'O', 'O', 'O', 'O', 'O', 'O', 'O', 'O', 'O', 'O', 'O', 'O', 'O', 'O', 'O', 'O', 'B-ORG', 'O', 'I-MISC', 'O', 'O', 'I-MISC', 'I-MISC', 'O', 'O', 'O', 'O', 'I-MISC', 'O']\n",
      "['O', 'O', 'O', 'O', 'O', 'O', 'O', 'O', 'O', 'O', 'O', 'O', 'O', 'O', 'B-ORG', 'O', 'O', 'O', 'O', 'O', 'O', 'O', 'O', 'O', 'O', 'O', 'O', 'O', 'O', 'O', 'I-MISC', 'I-MISC', 'I-MISC', 'I-MISC', 'O']\n",
      "['O', 'O', 'O', 'O', 'O', 'O', 'O', 'B-MISC', 'O', 'O', 'O', 'O', 'O', 'O', 'O', 'B-MISC', 'O', 'O', 'O', 'O', 'O', 'O', 'O', 'I-MISC', 'O', 'O', 'O', 'I-MISC', 'O', 'O', 'O', 'O', 'O', 'O', 'O', 'I-MISC', 'I-MISC', 'O', 'O', 'O', 'I-MISC', 'O', 'I-MISC', 'I-MISC', 'O', 'I-MISC', 'O', 'O', 'B-LOC', 'O']\n",
      "['O', 'O', 'O', 'O', 'O', 'O', 'O', 'O', 'O', 'O', 'O', 'I-MISC', 'I-MISC', 'I-MISC', 'O', 'O', 'O', 'O', 'O', 'O', 'O', 'O', 'O', 'O', 'O', 'O', 'O', 'O', 'O', 'O', 'O', 'O', 'B-PER', 'O', 'O', 'O', 'O', 'O', 'O', 'O', 'O', 'O', 'O']\n",
      "['O', 'O', 'O', 'O', 'O', 'O', 'O', 'O', 'O', 'O', 'O', 'O', 'B-PER', 'O', 'O', 'O', 'O', 'O', 'O', 'O', 'I-MISC', 'I-MISC', 'I-MISC', 'I-MISC', 'O', 'O', 'O', 'O', 'O', 'O', 'B-PER', 'I-PER', 'O', 'O', 'O', 'O', 'O', 'O', 'O', 'I-MISC', 'I-MISC', 'I-MISC', 'I-MISC', 'O', 'O', 'O', 'B-ORG', 'O', 'O', 'O', 'O', 'O', 'O', 'I-MISC', 'I-MISC', 'I-MISC', 'I-MISC', 'O', 'O', 'O', 'B-ORG', 'I-ORG', 'O', 'O']\n",
      "['O', 'O', 'O', 'O', 'O', 'O', 'O', 'I-MISC', 'I-MISC', 'B-MISC', 'I-MISC', 'I-MISC', 'I-MISC', 'I-MISC', 'I-MISC', 'I-MISC']\n",
      "['O', 'O', 'O', 'O', 'O', 'O', 'O', 'O', 'I-MISC', 'I-MISC', 'O', 'O', 'B-ORG', 'I-ORG', 'O', 'O', 'O', 'O', 'O', 'O', 'O', 'O', 'O', 'O', 'I-MISC', 'I-MISC', 'O', 'O', 'B-PER', 'I-PER']\n",
      "['O', 'O', 'O', 'O', 'O', 'O', 'O', 'O', 'O', 'O', 'O', 'I-MISC', 'I-MISC', 'O', 'O', 'O', 'B-ORG', 'O', 'O', 'O', 'O', 'O', 'O', 'O', 'O', 'O', 'O', 'O', 'B-ORG', 'I-ORG', 'O', 'B-ORG', 'I-ORG', 'O', 'O', 'O', 'O', 'O', 'O']\n",
      "['O', 'O', 'O', 'O', 'O', 'O', 'O', 'O', 'O', 'O', 'O', 'I-MISC', 'O', 'O', 'O', 'O', 'B-PER', 'I-PER']\n",
      "['O', 'O', 'O', 'O', 'O', 'O', 'O', 'O', 'O', 'O', 'O', 'O', 'O', 'O', 'O', 'O', 'O', 'O', 'O', 'O', 'O', 'O', 'O', 'O', 'O', 'B-PER', 'I-PER', 'O', 'O', 'I-MISC', 'I-MISC', 'O', 'O', 'O', 'O', 'B-PER', 'O', 'O', 'B-PER', 'I-PER', 'O', 'O', 'I-MISC', 'I-MISC', 'I-MISC', 'O', 'O', 'O', 'O', 'B-PER', 'I-PER', 'O', 'O', 'B-PER', 'I-PER', 'I-PER', 'O', 'O', 'O', 'O', 'O', 'I-MISC', 'I-MISC', 'O', 'O', 'O', 'O', 'I-MISC', 'I-MISC', 'O', 'O', 'O', 'B-PER', 'I-PER', 'O', 'O', 'I-MISC', 'I-MISC', 'I-MISC', 'O', 'O', 'O', 'I-MISC', 'O', 'B-PER', 'I-PER']\n",
      "['O', 'B-LOC', 'O', 'O', 'O', 'O', 'O', 'O', 'O', 'O', 'O', 'I-MISC', 'I-MISC', 'O', 'O', 'O', 'O', 'O', 'O', 'O', 'B-PER', 'I-PER', 'I-PER', 'O', 'O', 'O', 'O', 'O', 'O', 'B-LOC', 'O', 'O', 'O', 'O', 'O', 'O', 'O', 'O', 'O', 'O', 'O', 'O', 'O', 'O', 'O', 'O', 'B-ORG', 'I-ORG', 'I-ORG', 'I-ORG']\n",
      "['O', 'O', 'O', 'O', 'O', 'O', 'O', 'O', 'B-ORG', 'O', 'I-MISC', 'O', 'O', 'O', 'O', 'O']\n",
      "['O', 'O', 'O', 'O', 'O', 'I-MISC', 'I-MISC', 'O', 'O', 'O', 'O', 'O', 'O', 'O', 'O', 'O', 'O', 'O', 'B-PER', 'I-PER', 'I-PER', 'O', 'B-PER', 'I-PER', 'O', 'O', 'O', 'O', 'O', 'O', 'O', 'O', 'O', 'O', 'O', 'I-MISC', 'O', 'O', 'O', 'O', 'O', 'O', 'O', 'B-ORG']\n",
      "['O', 'O', 'O', 'O', 'O', 'O', 'O', 'B-PER', 'O', 'O', 'O', 'O', 'O', 'I-MISC', 'I-MISC', 'I-MISC', 'O', 'O', 'O', 'O', 'O', 'O', 'O', 'O', 'O']\n",
      "['O', 'O', 'O', 'O', 'O', 'O', 'O', 'O', 'O', 'O', 'O', 'O', 'O', 'O', 'O', 'B-PER', 'O', 'B-PER', 'O', 'O', 'O', 'O', 'O', 'O', 'O', 'O', 'I-MISC']\n",
      "['O', 'O', 'O', 'O', 'O', 'B-MISC', 'I-MISC', 'O', 'O', 'O', 'O', 'O', 'O', 'O', 'B-ORG', 'O', 'I-MISC', 'I-MISC', 'O', 'O', 'O', 'O', 'O']\n",
      "['O', 'O', 'B-PER', 'I-PER', 'O', 'O', 'O', 'O', 'O', 'O', 'O', 'O', 'O', 'O', 'O', 'O', 'O', 'O', 'O', 'O', 'O', 'O', 'O', 'O', 'O', 'O', 'O', 'I-MISC', 'I-MISC']\n",
      "['O', 'O', 'O', 'O', 'O', 'O', 'B-LOC', 'O', 'O', 'O', 'O', 'O', 'O', 'O', 'O', 'O', 'O', 'O', 'O', 'B-LOC', 'O', 'O', 'I-MISC', 'O', 'O', 'O', 'O', 'O', 'O', 'B-LOC', 'I-LOC', 'I-LOC']\n",
      "['O', 'O', 'O', 'B-MISC', 'I-MISC', 'I-MISC', 'O', 'O', 'O', 'B-PER', 'O', 'O', 'O', 'O', 'O', 'O', 'O', 'O', 'B-ORG', 'O', 'I-MISC', 'I-MISC', 'O']\n",
      "['O', 'O', 'O', 'O', 'O', 'O', 'B-PER', 'I-PER', 'O', 'O', 'O', 'O', 'O', 'O', 'O', 'I-MISC', 'I-MISC', 'O']\n",
      "['O', 'O', 'O', 'O', 'O', 'O', 'O', 'O', 'O', 'O', 'B-ORG', 'O', 'O', 'O', 'O', 'O', 'O', 'I-MISC', 'O']\n",
      "['O', 'O', 'O', 'O', 'O', 'O', 'O', 'I-MISC', 'I-MISC', 'O', 'O', 'B-ORG', 'O', 'O', 'O', 'O', 'O', 'O', 'O', 'O', 'O', 'O', 'O', 'O']\n",
      "['O', 'O', 'O', 'O', 'O', 'O', 'O', 'I-MISC', 'O', 'O', 'B-LOC']\n",
      "['O', 'B-MISC', 'I-MISC', 'I-MISC', 'I-MISC', 'O', 'O', 'O', 'O', 'O', 'O', 'O', 'O', 'O', 'O', 'O', 'O', 'O', 'O', 'O', 'O', 'O', 'B-ORG', 'O', 'I-MISC', 'I-MISC', 'O', 'O', 'O']\n",
      "['O', 'O', 'O', 'I-MISC', 'I-MISC', 'I-MISC', 'O', 'O', 'O', 'O', 'O', 'O', 'O', 'O', 'O', 'B-MISC', 'O', 'O', 'O', 'O', 'O', 'O', 'O', 'B-PER', 'O', 'O', 'O', 'O', 'O']\n",
      "['O', 'O', 'O', 'O', 'O', 'O', 'O', 'O', 'O', 'O', 'O', 'O', 'B-PER', 'O', 'O', 'I-MISC', 'O', 'O', 'O', 'B-PER', 'O', 'I-MISC', 'O', 'B-PER', 'O', 'O', 'O', 'O', 'O', 'O', 'O', 'O', 'O', 'O', 'O', 'O', 'B-PER', 'O', 'I-MISC', 'O', 'O', 'O', 'O', 'O', 'O', 'O', 'O', 'O']\n",
      "['O', 'O', 'O', 'O', 'O', 'O', 'B-MISC', 'O', 'O', 'O', 'O', 'O', 'O', 'O', 'I-MISC', 'O', 'I-MISC', 'I-MISC', 'I-MISC', 'O', 'O', 'O', 'O']\n",
      "['O', 'O', 'O', 'O', 'O', 'O', 'O', 'O', 'O', 'O', 'I-MISC', 'O', 'O', 'O', 'O', 'O', 'O', 'B-PER', 'O', 'O', 'O', 'I-MISC', 'O', 'O', 'O', 'I-MISC', 'O', 'O', 'O']\n",
      "['O', 'O', 'O', 'B-LOC', 'O', 'O', 'O', 'O', 'O', 'O', 'O', 'O', 'O', 'O', 'O', 'O', 'O', 'O', 'O', 'O', 'O', 'O', 'O', 'O', 'O', 'O', 'O', 'O', 'O', 'O', 'O', 'I-MISC']\n",
      "['B-PER', 'O', 'O', 'O', 'O', 'O', 'O', 'O', 'O', 'O', 'O', 'O', 'O', 'O', 'O', 'O', 'O', 'O', 'O', 'O', 'O', 'O', 'O', 'I-MISC', 'O', 'O', 'O', 'O', 'O', 'O', 'O', 'O', 'O', 'O', 'O', 'O', 'O', 'I-MISC', 'O', 'O', 'O', 'O', 'O', 'O', 'O', 'O', 'O', 'O', 'O', 'O', 'O']\n",
      "['O', 'O', 'O', 'O', 'O', 'O', 'O', 'O', 'O', 'O', 'O', 'O', 'O', 'O', 'O', 'O', 'O', 'O', 'O', 'O', 'O', 'O', 'O', 'O', 'O', 'O', 'O', 'O', 'O', 'O', 'O', 'O', 'O', 'O', 'O', 'O', 'O', 'O', 'O', 'O', 'O', 'O', 'O', 'O', 'I-MISC', 'O', 'I-MISC', 'O', 'O', 'O', 'O', 'O', 'O', 'O', 'B-ORG', 'O', 'B-ORG', 'O', 'O']\n",
      "['O', 'O', 'O', 'O', 'O', 'O', 'I-MISC', 'O', 'O', 'O', 'O', 'O', 'B-LOC', 'O', 'O', 'O', 'O', 'O', 'O', 'O', 'B-LOC']\n",
      "['O', 'O', 'O', 'O', 'B-ORG', 'O', 'O', 'O', 'I-MISC', 'I-MISC', 'I-MISC', 'I-MISC', 'O', 'O', 'O']\n",
      "['O', 'O', 'O', 'O', 'O', 'O', 'O', 'B-ORG', 'O', 'I-MISC', 'I-MISC', 'B-MISC', 'O', 'O', 'O']\n",
      "['O', 'O', 'O', 'O', 'O', 'O', 'O', 'O', 'O', 'I-MISC', 'O', 'O', 'O', 'O', 'O', 'O', 'O', 'O', 'O', 'O', 'O', 'O', 'O', 'O', 'O', 'O', 'O', 'O', 'B-ORG', 'I-ORG', 'I-ORG', 'I-ORG', 'I-ORG', 'I-ORG', 'O', 'O', 'O', 'O', 'O', 'B-ORG', 'I-ORG', 'I-ORG', 'I-ORG', 'I-ORG', 'I-ORG', 'O', 'O', 'O']\n",
      "['O', 'O', 'B-PER', 'O', 'O', 'O', 'O', 'O', 'O', 'O', 'I-MISC', 'O', 'O', 'I-MISC', 'I-MISC', 'I-MISC', 'O', 'O', 'O', 'O', 'O', 'O', 'I-MISC']\n",
      "['O', 'O', 'O', 'O', 'O', 'O', 'O', 'O', 'O', 'B-ORG', 'I-ORG', 'I-ORG', 'I-ORG', 'O', 'I-MISC', 'I-MISC', 'O']\n",
      "['O', 'O', 'O', 'B-PER', 'I-PER', 'O', 'B-PER', 'I-PER', 'O', 'O', 'O', 'O', 'O', 'O', 'O', 'O', 'O', 'O', 'O', 'O', 'O', 'I-MISC', 'O']\n",
      "['O', 'O', 'O', 'B-MISC', 'O', 'O', 'O', 'O', 'O', 'O', 'O', 'O', 'O', 'O', 'O', 'O', 'O', 'I-MISC', 'O', 'O', 'O', 'O', 'O']\n",
      "['O', 'O', 'O', 'O', 'O', 'O', 'O', 'O', 'O', 'O', 'O', 'O', 'O', 'O', 'O', 'O', 'O', 'O', 'O', 'O', 'O', 'I-MISC', 'O', 'O', 'O', 'O', 'O', 'B-PER', 'O', 'O', 'O', 'O', 'O', 'O', 'O', 'O', 'O', 'O', 'O', 'O', 'O', 'O']\n",
      "['O', 'O', 'O', 'O', 'O', 'O', 'O', 'O', 'O', 'O', 'O', 'O', 'O', 'B-LOC', 'O', 'O', 'I-MISC', 'I-MISC', 'I-MISC', 'I-MISC', 'I-MISC']\n",
      "['O', 'O', 'O', 'O', 'O', 'B-ORG', 'O', 'O', 'O', 'O', 'O', 'O', 'O', 'O', 'O', 'O', 'O', 'O', 'O', 'O', 'O', 'O', 'O', 'O', 'O', 'O', 'O', 'O', 'O', 'O', 'O', 'O', 'O', 'O', 'O', 'O', 'O', 'O', 'O', 'O', 'O', 'O', 'I-MISC', 'I-MISC', 'I-MISC', 'I-MISC', 'O', 'O', 'O']\n",
      "['B-MISC', 'O', 'O', 'O', 'O', 'O', 'O', 'O', 'O', 'O', 'O', 'O', 'O', 'B-MISC', 'O', 'B-MISC', 'O', 'O', 'O', 'O', 'O', 'O', 'O', 'O', 'O', 'O', 'I-MISC', 'O', 'I-MISC', 'O']\n",
      "['O', 'O', 'O', 'O', 'O', 'O', 'B-PER', 'I-PER', 'O', 'B-PER', 'I-PER', 'O', 'O', 'O', 'O', 'O', 'O', 'I-MISC', 'O', 'O', 'O', 'O', 'O', 'O', 'O', 'O', 'O', 'O', 'O', 'O', 'O', 'O', 'O', 'O', 'O', 'O']\n",
      "['O', 'O', 'O', 'O', 'O', 'O', 'O', 'O', 'O', 'I-MISC', 'I-MISC', 'I-MISC', 'I-MISC', 'I-MISC', 'O', 'O', 'O', 'O', 'O', 'B-PER', 'O', 'O', 'O', 'O', 'O']\n",
      "['O', 'O', 'O', 'O', 'I-MISC', 'I-MISC', 'O', 'O', 'O', 'I-MISC', 'O', 'O', 'O', 'O', 'O', 'O', 'O', 'O', 'O', 'O', 'I-MISC', 'I-MISC', 'I-MISC', 'O', 'B-LOC', 'O', 'O', 'O', 'O', 'O', 'O', 'O', 'O', 'O', 'O', 'O', 'O']\n",
      "['O', 'O', 'O', 'B-MISC', 'O', 'O', 'O', 'O', 'O', 'O', 'O', 'O', 'I-MISC', 'I-MISC', 'I-MISC', 'I-MISC', 'I-MISC']\n",
      "['O', 'O', 'B-PER', 'O', 'O', 'O', 'O', 'B-PER', 'O', 'O', 'O', 'O', 'O', 'O', 'O', 'O', 'O', 'I-MISC', 'O', 'O', 'O', 'O', 'O', 'O', 'O', 'O', 'O', 'O', 'O', 'O', 'O', 'O', 'O', 'O', 'O', 'O', 'O', 'O', 'B-PER', 'O', 'B-PER']\n",
      "['O', 'O', 'O', 'O', 'O', 'B-ORG', 'I-ORG', 'O', 'O', 'I-MISC', 'I-MISC', 'I-MISC']\n",
      "['O', 'O', 'O', 'O', 'O', 'O', 'O', 'O', 'O', 'O', 'O', 'O', 'O', 'O', 'O', 'O', 'O', 'O', 'O', 'O', 'I-MISC', 'I-MISC', 'I-MISC', 'I-MISC', 'O', 'B-ORG', 'I-ORG', 'I-ORG', 'O', 'O', 'O', 'O', 'O', 'O', 'O', 'O']\n",
      "['O', 'O', 'O', 'O', 'O', 'O', 'O', 'O', 'O', 'O', 'O', 'O', 'O', 'O', 'O', 'O', 'O', 'O', 'O', 'O', 'O', 'O', 'O', 'O', 'O', 'O', 'O', 'O', 'O', 'I-MISC', 'O', 'O', 'O', 'O', 'O', 'B-PER', 'O', 'O', 'O', 'O', 'O', 'B-PER', 'O', 'O', 'O', 'O']\n",
      "['O', 'O', 'O', 'O', 'O', 'O', 'O', 'O', 'O', 'O', 'O', 'O', 'O', 'O', 'O', 'O', 'O', 'B-PER', 'I-PER', 'O', 'O', 'O', 'O', 'O', 'O', 'O', 'O', 'O', 'B-LOC', 'O', 'O', 'O', 'O', 'O', 'O', 'I-MISC', 'I-MISC', 'O']\n",
      "['B-LOC', 'O', 'O', 'O', 'O', 'O', 'O', 'O', 'O', 'O', 'O', 'O', 'O', 'O', 'O', 'I-MISC', 'O', 'O', 'O', 'O', 'B-LOC']\n",
      "['O', 'O', 'B-MISC', 'O', 'O', 'O', 'O', 'O', 'O', 'B-LOC', 'I-LOC', 'O', 'B-LOC', 'O', 'I-MISC', 'O', 'O', 'O', 'O', 'O', 'O', 'O', 'O']\n",
      "['O', 'O', 'O', 'O', 'O', 'O', 'O', 'O', 'O', 'O', 'O', 'O', 'O', 'I-MISC', 'I-MISC', 'O', 'O', 'O', 'O', 'O', 'O', 'O', 'O', 'O', 'O', 'I-MISC', 'I-MISC', 'O', 'I-MISC', 'I-MISC', 'I-MISC', 'O', 'O', 'I-MISC', 'I-MISC', 'O', 'B-ORG', 'I-ORG', 'I-ORG', 'O', 'O', 'O', 'O', 'O', 'O', 'O', 'O', 'B-PER', 'O', 'O', 'O', 'O', 'O', 'O', 'O', 'O', 'O', 'O', 'O', 'O', 'O', 'O', 'O', 'O', 'O', 'O', 'O', 'O', 'O', 'B-ORG', 'I-ORG']\n",
      "['O', 'O', 'O', 'O', 'O', 'O', 'O', 'O', 'O', 'O', 'O', 'O', 'O', 'O', 'O', 'O', 'O', 'O', 'O', 'O', 'O', 'O', 'O', 'O', 'O', 'O', 'O', 'O', 'O', 'O', 'O', 'O', 'O', 'O', 'O', 'O', 'O', 'O', 'I-MISC', 'O', 'O', 'O', 'O', 'O', 'O', 'O', 'O', 'O', 'O', 'O', 'O', 'O', 'O', 'O', 'O', 'O', 'O', 'O', 'O', 'O', 'O', 'O', 'O', 'O', 'O', 'O', 'O', 'O', 'O', 'O', 'O', 'O', 'O', 'B-LOC']\n",
      "['O', 'O', 'O', 'O', 'O', 'O', 'O', 'O', 'O', 'I-MISC', 'O', 'O', 'B-LOC', 'O', 'O', 'O', 'O', 'O', 'O', 'O', 'O', 'O', 'O', 'O', 'O', 'I-MISC', 'I-MISC', 'I-MISC', 'I-MISC', 'I-MISC', 'O', 'O', 'I-MISC', 'O', 'O', 'O', 'O', 'I-MISC', 'I-MISC', 'I-MISC', 'I-MISC', 'O', 'O', 'O']\n",
      "['O', 'O', 'O', 'O', 'O', 'O', 'O', 'O', 'O', 'O', 'O', 'I-MISC', 'O', 'O', 'O', 'O', 'B-MISC', 'O']\n",
      "['O', 'O', 'O', 'O', 'B-PER', 'O', 'O', 'O', 'I-MISC', 'O', 'O', 'O', 'O', 'O', 'O', 'O', 'O', 'O', 'O', 'O', 'O', 'O', 'O', 'O', 'O', 'O', 'O', 'B-LOC', 'O', 'B-LOC', 'I-LOC']\n",
      "['B-PER', 'O', 'O', 'O', 'O', 'O', 'O', 'O', 'O', 'O', 'O', 'O', 'O', 'O', 'O', 'I-MISC', 'I-MISC']\n",
      "['O', 'O', 'O', 'O', 'O', 'O', 'O', 'O', 'O', 'I-MISC', 'O', 'I-MISC', 'O', 'I-MISC', 'O', 'O', 'O', 'O', 'O', 'O', 'O', 'O', 'B-LOC', 'O', 'B-LOC', 'I-LOC', 'O', 'O', 'O', 'B-LOC', 'I-LOC', 'O']\n",
      "['O', 'O', 'O', 'O', 'O', 'O', 'I-MISC', 'O', 'O', 'O', 'B-LOC', 'O', 'B-LOC', 'O', 'O', 'B-LOC', 'O', 'O', 'O', 'O', 'O', 'O', 'O', 'O', 'O', 'I-MISC', 'O', 'O', 'O', 'B-LOC']\n",
      "['O', 'O', 'O', 'O', 'O', 'O', 'O', 'O', 'B-ORG', 'I-ORG', 'I-ORG', 'O', 'O', 'O', 'O', 'O', 'I-MISC', 'I-MISC', 'I-MISC']\n",
      "['O', 'O', 'O', 'O', 'O', 'O', 'O', 'O', 'O', 'B-PER', 'O', 'O', 'I-MISC', 'I-MISC', 'I-MISC', 'I-MISC', 'O', 'I-MISC', 'I-MISC', 'I-MISC', 'I-MISC', 'O', 'O', 'O', 'O', 'O', 'O', 'O', 'O', 'O', 'O', 'O', 'O', 'O', 'O']\n",
      "['O', 'O', 'O', 'O', 'O', 'O', 'B-LOC', 'O', 'O', 'O', 'O', 'O', 'O', 'O', 'O', 'O', 'O', 'O', 'O', 'I-MISC', 'O', 'O', 'O', 'O', 'O', 'O', 'O', 'O', 'O', 'O']\n",
      "['O', 'O', 'O', 'O', 'O', 'O', 'O', 'O', 'O', 'O', 'O', 'O', 'O', 'O', 'O', 'O', 'O', 'O', 'O', 'O', 'B-PER', 'I-PER', 'O', 'O', 'O', 'O', 'O', 'B-PER', 'O', 'I-MISC', 'O', 'O', 'O', 'O', 'O', 'O', 'O', 'O', 'O', 'O', 'O', 'O', 'O', 'O', 'O', 'I-MISC', 'I-MISC', 'I-MISC']\n",
      "['O', 'O', 'O', 'O', 'O', 'O', 'B-ORG', 'O', 'O', 'O', 'O', 'O', 'O', 'I-MISC', 'O', 'O', 'O', 'B-MISC', 'I-MISC', 'I-MISC', 'O']\n",
      "['O', 'O', 'O', 'O', 'O', 'O', 'O', 'O', 'O', 'O', 'O', 'O', 'O', 'O', 'O', 'O', 'O', 'O', 'O', 'O', 'B-PER', 'O', 'I-MISC']\n"
     ]
    },
    {
     "data": {
      "text/plain": [
       "194"
      ]
     },
     "execution_count": 9,
     "metadata": {},
     "output_type": "execute_result"
    }
   ],
   "source": [
    "count = 0\n",
    "for i in range(7000):\n",
    "    ner = training_data['NER'][i]\n",
    "    valid = validate_ner_sequence(ner)\n",
    "    if not valid:\n",
    "        count += 1\n",
    "        print(ner)\n",
    "\n",
    "count\n"
   ]
  },
  {
   "cell_type": "markdown",
   "metadata": {},
   "source": [
    "### <mark>Q1.2 Answer</mark>\n",
    "\n",
    "There are 194 documents in the training data (out of 7000) that have an invalid NER sequence, meaning there are some invalid sequences but 97.2% of them are valid. In all of the invalid cases, it seems like the error results from an \"O\" transitioning directly to an \"I\" tag, rather than an \"I\" tag directly following a \"B\" or \"I\" tag of another type (e.g. LOC to MISC)."
   ]
  },
  {
   "cell_type": "markdown",
   "metadata": {},
   "source": [
    "### Data Statistics\n",
    "\n",
    "In order to look at the data in a different way, you can visualize some of its characteristics. Take the example\n",
    "below, which shows the distribution of the number of tokens per document in the training data. You can use the following code to get started:"
   ]
  },
  {
   "cell_type": "code",
   "execution_count": 10,
   "metadata": {
    "id": "V6VQ_7gK7CRX"
   },
   "outputs": [
    {
     "data": {
      "image/png": "[encoded data removed]",
      "text/plain": [
       "<Figure size 432x288 with 1 Axes>"
      ]
     },
     "metadata": {
      "needs_background": "light"
     },
     "output_type": "display_data"
    }
   ],
   "source": [
    "doc_lengths = [len(doc) for doc in training_data[\"text\"]]\n",
    "\n",
    "def plot_histogram(data, title, xlabel, ylabel, bins=50):\n",
    "  \"\"\"\n",
    "  Plots a histogram of the data.\n",
    "\n",
    "  Input:\n",
    "    data: List[Int], representing the data to be plotted\n",
    "    title: String, representing the title of the plot\n",
    "    x_label: String, representing the x-axis label\n",
    "    y_label: String, representing the y-axis label\n",
    "    i: Int, representing the figure number\n",
    "  Output:\n",
    "    None\n",
    "  \"\"\"\n",
    "  plt.hist(data, bins=bins, color=\"maroon\")\n",
    "  plt.xlabel(xlabel)\n",
    "  plt.ylabel(ylabel)\n",
    "  plt.title(title)\n",
    "  plt.show()\n",
    "\n",
    "plot_histogram(\n",
    "\t\tdoc_lengths,\n",
    "\t\t\"Distribution of document length\",\n",
    "\t\t\"Document Length\",\n",
    "\t\t\"Count\",\n",
    ")\n"
   ]
  },
  {
   "cell_type": "markdown",
   "metadata": {
    "id": "EvM9s7J97CRX"
   },
   "source": [
    "#### Q1.3: Provide a bar graph giving the token level distribution of NER tags, (O included): e.g. 10% of tokens are B-ORG, 20% of tokens are I-ORG, etc. What do you notice about this distribution? Is this what you might expect? What difficulties might this cause for your models?"
   ]
  },
  {
   "cell_type": "code",
   "execution_count": 11,
   "metadata": {},
   "outputs": [
    {
     "data": {
      "text/plain": [
       "Text(0.5, 1.0, 'Distribution of NER tags')"
      ]
     },
     "execution_count": 11,
     "metadata": {},
     "output_type": "execute_result"
    },
    {
     "data": {
      "image/png": "[encoded data removed]",
      "text/plain": [
       "<Figure size 432x288 with 1 Axes>"
      ]
     },
     "metadata": {
      "needs_background": "light"
     },
     "output_type": "display_data"
    }
   ],
   "source": [
    "# YOUR CODE HERE\n",
    "\n",
    "tags, counts = np.unique(sum(training_data[\"NER\"], []), return_counts=True)\n",
    "frequency = counts / np.sum(counts) * 100\n",
    "\n",
    "plt.bar(tags, frequency)\n",
    "plt.xlabel(\"NER tag\")\n",
    "plt.ylabel(\"Frequency\")\n",
    "plt.title(\"Distribution of NER tags\")\n"
   ]
  },
  {
   "cell_type": "code",
   "execution_count": 12,
   "metadata": {},
   "outputs": [
    {
     "data": {
      "text/plain": [
       "array([ 2.57055976,  1.73700082,  1.18549205,  1.90698641,  0.88896164,\n",
       "        1.57834761,  1.00291494,  1.35107059, 87.77866618])"
      ]
     },
     "execution_count": 12,
     "metadata": {},
     "output_type": "execute_result"
    }
   ],
   "source": [
    "frequency\n"
   ]
  },
  {
   "cell_type": "markdown",
   "metadata": {},
   "source": [
    "### <mark>Q1.3 Answer</mark>\n",
    "\n",
    "I noticed that more than 87% of the NER tags in the training dataset are \"O\", meaning they are not part of any named entity. The frequencies of the \"I\" and \"B\" tags ranges from 0.89% to 2.57%, meaning that within the tags that are part of a named entity, the classes have relatively balanced distributions. It is not surprising to me that most of the tokens in the datasets are tagged as \"O\", since the proportion of words in everyday speech that are proper nouns is quite small. Additionally, there are a lot of function words in English (as opposed to content words), all of which would be tagged as \"O\". This distribution might cause some difficulties for our model, since it just learn to predict \"O\" for everything since it is by far the most common tag (meaning this simple baseline already has an accuracy of 87%!) Additionally, this means that the model must be trained on a lot of data in order to be exposed to enough \"I\" and \"B\" tags to learn how to identify them, since they are so uncommon.\n"
   ]
  },
  {
   "cell_type": "markdown",
   "metadata": {
    "id": "gitXbGWG7CRX"
   },
   "source": [
    "#### Q1.4: It seems to be that entity tokens are uppercase. Is this correct? Plot a 2x2 matrix displaying the counts, where one dimension represents whether a token is uppercase and the other dimension indicates whether the token is part of an entity. What do you notice about this distribution? Is this what you might expect?"
   ]
  },
  {
   "cell_type": "code",
   "execution_count": 13,
   "metadata": {
    "id": "qg1x0IHF7CRX"
   },
   "outputs": [
    {
     "data": {
      "image/png": "[encoded data removed]",
      "text/plain": [
       "<Figure size 360x360 with 2 Axes>"
      ]
     },
     "metadata": {
      "needs_background": "light"
     },
     "output_type": "display_data"
    }
   ],
   "source": [
    "# YOUR CODE HERE\n",
    "# Initialize category counters\n",
    "categories = {\n",
    "    \"Upper, e\": 0,\n",
    "    \"Upper, ne\": 0,\n",
    "    \"Lower, e\": 0,\n",
    "    \"Lower, ne\": 0\n",
    "}\n",
    "\n",
    "# Process the training data\n",
    "for text, ner in zip(training_data[\"text\"], training_data[\"NER\"]):\n",
    "    for word, tag in zip(text, ner):\n",
    "        is_upper = word[0].isupper()\n",
    "        is_entity = (tag != \"O\")\n",
    "        \n",
    "        if is_upper and is_entity:\n",
    "            categories[\"Upper, e\"] += 1\n",
    "        elif is_upper and not is_entity:\n",
    "            categories[\"Upper, ne\"] += 1\n",
    "        elif not is_upper and is_entity:\n",
    "            categories[\"Lower, e\"] += 1\n",
    "        else:\n",
    "            categories[\"Lower, ne\"] += 1\n",
    "\n",
    "# Create the confusion matrix\n",
    "matrix = np.array([\n",
    "    [categories[\"Upper, e\"], categories[\"Upper, ne\"]],\n",
    "    [categories[\"Lower, e\"], categories[\"Lower, ne\"]],\n",
    "])\n",
    "\n",
    "# Plot the matrix\n",
    "plt.figure(figsize=(5, 5))\n",
    "plt.imshow(matrix, interpolation=\"nearest\", cmap=\"Blues\")\n",
    "plt.xticks([0, 1], [\"Entity\", \"Non-Entity\"])\n",
    "plt.yticks([0, 1], [\"Uppercase\", \"Lowercase\"])\n",
    "\n",
    "# Annotate the matrix\n",
    "for i in range(2):\n",
    "    for j in range(2):\n",
    "        if matrix[i, j] > 80000: \n",
    "            color = \"white\"\n",
    "        else:\n",
    "            color = \"black\"\n",
    "        plt.text(j, i, matrix[i, j], ha=\"center\", va=\"center\", color=color, fontsize=12)\n",
    "\n",
    "plt.title(\"Named Entity Capitalization Matrix\")\n",
    "plt.xlabel(\"Entity Status\")\n",
    "plt.ylabel(\"Capitalization\")\n",
    "plt.colorbar()\n",
    "plt.show()\n"
   ]
  },
  {
   "cell_type": "markdown",
   "metadata": {},
   "source": [
    "### <mark>Q1.4 Answer</mark>\n",
    "Yes, it's true that most named entities are in uppercase, as 18,308 entities are in uppercase while 8054 are in lowercase (so 69.4% are uppercase). This makes sense since named entities are commonly proper nouns such as people (PER) and places (LOC), which are capitalized. However, it is not the case that all named entities are in uppercase, possibly because some named entities that are multiple tokens long have words that are not supposed to be uppercase in titles (for example, the preposition \"of\" in the MISC entity \"Battle of the Atlantic\"). Additionally, tokens like numbers are considered lowercase and might be part of named entities. \n",
    "\n",
    "I also notice that lowercase non-named entities make up the vast majority of the words (82.7%), which also makes sense since most of the words frequently occurring in the English language are not named entities and don't need to be capitalized. Furthermore, there are some non-named entities that are capitalized (1104/131371 = 0.84%), which also makes sense because they might be the start of a sentence. \n",
    "\n",
    "The probability of a token being a named entity if it is uppercase is $P(NE|\\text{uppercase}) = 94\\%$. However, while being uppercase is a strong indicator of a token being part of a named entity, it is not the sole determiner since many named entities are lowercase, so other features should be used in conjunction to capitalization in Named Entity Recognition. "
   ]
  },
  {
   "cell_type": "markdown",
   "metadata": {
    "id": "yPlG0lZx7CRX"
   },
   "source": [
    "#### Q1.5: Provide a list of the 10 tokens which are most frequently tagged as part of a named entity. What do you notice about this distribution? What difficulties might this cause for your models?\n",
    "\n",
    "For examples if\n",
    "- tokens = [\"Cornell\", \"University\", \"is\", \"a\", \"university\", \"in\", \"Ithaca\", \",\", \"New\", \"York\"]\n",
    "- tags   = [\"B-ORG\", \"I-ORG\", \"O\", \"O\", \"O\", \"O\", \"B-LOC\", \"O\", \"B-LOC\", \"I-LOC\"]\n",
    "\n",
    "In this example, there are 3 named entities:\n",
    "- [\"Cornell University\", \"Ithaca\", \"New York\"].\n",
    "\n",
    "However, you are only interested in tokens which are tagged as part of named entities, which would be [\"Cornell\", \"University, \"Ithaca\", \"New\", \"York\"]."
   ]
  },
  {
   "cell_type": "code",
   "execution_count": 14,
   "metadata": {
    "id": "mVqeORv_7CRX"
   },
   "outputs": [
    {
     "name": "stdout",
     "output_type": "stream",
     "text": [
      "Top 10 most frequently tagged entities:\n",
      "of: 286\n",
      "The: 126\n",
      "the: 121\n",
      "New: 86\n",
      "World: 85\n",
      "United: 85\n",
      "War: 74\n",
      "States: 70\n",
      "John: 63\n",
      "League: 60\n"
     ]
    }
   ],
   "source": [
    "# YOUR CODE HERE\n",
    "tokens = []\n",
    "for text, ner in zip(training_data[\"text\"], training_data[\"NER\"]):\n",
    "    for word, tag in zip(text, ner):\n",
    "        if tag != \"O\":\n",
    "            tokens.append(word)\n",
    "\n",
    "unique, counts = np.unique(tokens, return_counts=True)\n",
    "top_idx = np.argsort(counts)\n",
    "\n",
    "print(\"Top 10 most frequently tagged entities:\")\n",
    "for i in top_idx.tolist()[::-1][:10]:\n",
    "    token = unique[i]\n",
    "    count = counts[i]\n",
    "    print(f\"{token}: {count}\")\n"
   ]
  },
  {
   "cell_type": "markdown",
   "metadata": {},
   "source": [
    "### <mark>Q1.5 Answer</mark>\n",
    "One thing I notice is that the word 'the' appears twice, one of which is capitalized and the other one is lowercase. This might throw off the model because they should be counted as the same word, and the capitalization should not matter.\n",
    "\n",
    "Although 'of', 'The', and 'the' are the most frequent tokens in named entities, they are also the most frequent tokens in the English language as a whole and are generally considered to be stop words. This means it's important that we do not remove stop words from the text before giving it to our model. Additionally, this might be difficult for the model because these three words usually do not appear as part of a named entity (since they are considered function words and not content words), so the model would need to rely on other context (ie. whether the previous word was tagged as a NE) to figure out if these words are part of the same named entity as well."
   ]
  },
  {
   "cell_type": "markdown",
   "metadata": {
    "id": "-EuI2qdvtgTJ"
   },
   "source": [
    "#### Q1.6: Provide a scatter plot mapping the length of a document to the number of named entities in that document. Describe what the plot looks like, and what it might mean about the relationship between named entities and document length."
   ]
  },
  {
   "cell_type": "code",
   "execution_count": 15,
   "metadata": {
    "id": "BylcxFsXtgTJ"
   },
   "outputs": [
    {
     "data": {
      "image/png": "[encoded data removed]",
      "text/plain": [
       "<Figure size 576x576 with 1 Axes>"
      ]
     },
     "metadata": {
      "needs_background": "light"
     },
     "output_type": "display_data"
    }
   ],
   "source": [
    "# YOUR CODE HERE\n",
    "\n",
    "doc_lengths = [len(doc) for doc in training_data[\"text\"]]\n",
    "num_entities = [sum(1 for tag in ner if tag != \"O\") for ner in training_data[\"NER\"]]\n",
    "\n",
    "plt.figure(figsize=(8, 8))\n",
    "plt.scatter(doc_lengths, num_entities, alpha=0.5)\n",
    "plt.title(\"Distribution of Named Entities per Document Length\")\n",
    "plt.xlabel(\"Number of Tokens in Document\")\n",
    "plt.ylabel(\"Number of Named Entities\")\n",
    "plt.grid(True)\n",
    "plt.show()\n"
   ]
  },
  {
   "cell_type": "markdown",
   "metadata": {},
   "source": [
    "### <mark>Q1.6 Answer</mark>\n",
    "A majority of the points are accumulated at lower number of tokens and lower number of named entities. However, there's a seemingly linear relation between number of tokens and number of named entities. The longer a document, the more number of named entities, which makes sense since there's more of a chance to mention named entities. Furthermore, there seems to be a constraint that no more than approximately 50% of the tokens in any given document are tagged as named entities, as there is a triangle formed beneath the line from (0,0) to (50, 100) where all samples fall below the line. \n",
    "\n",
    "However, there is also huge variance in this distribution, which makes sense because there can be multiple 'genres' of documents, some of which will barely mention named entities (for example, a set of instructions to something) and some will mention it a lot (for example, an article on a historical figure involved in many famous events). There appears to be higher variation in number of named entities for longer documents, because there is a document with around 115 tokens but only about 11 tagged as named entities while another document has fewer tokens but almost 50 of those are named entities."
   ]
  },
  {
   "cell_type": "markdown",
   "metadata": {
    "id": "R_gTE2BI7CRX"
   },
   "source": [
    "#### Q1.7: Make a convincing arugment around a novel insight about the data. In only a few sentences, argue why this insight is important in understanding the data for this task, and support your answer with relevant graphs or statistics."
   ]
  },
  {
   "cell_type": "code",
   "execution_count": 16,
   "metadata": {
    "id": "Wp8QeBcG7CRX"
   },
   "outputs": [
    {
     "data": {
      "image/png": "[encoded data removed]",
      "text/plain": [
       "<Figure size 576x576 with 1 Axes>"
      ]
     },
     "metadata": {
      "needs_background": "light"
     },
     "output_type": "display_data"
    }
   ],
   "source": [
    "# YOUR CODE HERE\n",
    "density = []\n",
    "for text, ner in zip(training_data[\"text\"], training_data[\"NER\"]):\n",
    "    count = sum(1 for tag in ner if tag != \"O\")\n",
    "    assert len(text) == len(ner)\n",
    "    density.append(count / len(text))\n",
    "\n",
    "plt.figure(figsize=(8, 8))\n",
    "plt.scatter(doc_lengths, density, alpha=0.5)\n",
    "plt.title(\"Distribution of Named Entity Density\")\n",
    "plt.xlabel(\"Number of Tokens in Document\")\n",
    "plt.ylabel(\"Entity Density\")\n",
    "plt.grid(True)\n",
    "plt.show()\n"
   ]
  },
  {
   "cell_type": "code",
   "execution_count": 23,
   "metadata": {},
   "outputs": [
    {
     "data": {
      "image/png": "[encoded data removed]",
      "text/plain": [
       "<Figure size 432x288 with 1 Axes>"
      ]
     },
     "metadata": {
      "needs_background": "light"
     },
     "output_type": "display_data"
    }
   ],
   "source": [
    "# YOUR CODE HERE\n",
    "position = []\n",
    "\n",
    "for ner in training_data[\"NER\"]:\n",
    "    doclen = len(ner)\n",
    "    for i, n in enumerate(ner):\n",
    "        if n != \"O\":\n",
    "            position.append(i/doclen)\n",
    "\n",
    "plot_histogram(\n",
    "    position, \n",
    "    \"Named Entity Token Predictions\", \"Position in Document\", \"Count\", bins=50)\n",
    "\n"
   ]
  },
  {
   "cell_type": "markdown",
   "metadata": {},
   "source": [
    "### <mark>Q1.7 Answer</mark>\n",
    "\n",
    "From the graph in 1.6 alone, it appears as though longer documents have more entities, however, it is difficult to determine whether this is solely because longer documents actually mention named entities more often or if this relationship is simply because long documents have more tokens overall. To further investigate the relationship between document length and named entities, we graphed the distribution of entity density (ie. the proportion of tokens in the document which are tagged as a named entity) over document length. \n",
    "\n",
    "This new graph shows that there is in fact an inverse relationship between entity frequency and document length, where shorter documents tend to mention named entities more often than longer documents do, possibly because shorter documents might try to summarize all the information about a topic while preserving the named entities because they are important (eg. important locations, events, or names). \n",
    "\n",
    "Additionally, we wanted to see whether there is any relationship between the position of a token (index/document length) and whether it is a named entity. We find that although named entities can appear at any position in the document, they tend to appear at the very start or near the end. This helps us understand the dataset for the task because it means that named entities more frequently co-occur with `<s>` and `</s>` tokens."
   ]
  },
  {
   "cell_type": "markdown",
   "metadata": {
    "id": "pGonsYOV7CRX"
   },
   "source": [
    "## Part 2: Hidden Markov Model\n",
    "In this part of the assignment, you will:\n",
    "1. Implement code for counting and smoothing of labels and words, as well as unknown word handing, as necessary to support the Viterbi algorithm.\n",
    "2. Build a Hidden Markov Model in accordance with the starter code that has been provided in `models.py`.\n",
    "3. Implement the **Viterbi algorithm**, that can be used to infer token-level labels (identifying the appropriate named entity) for an input document. This process is commonly referred to as **decoding**. Bigram-based Viterbi is $ \\mathcal{O}(sm^2)$ where *s* is the length of the sentence and *m* is the number of tags. Your implementation should have similar efficiency.\n",
    "\n",
    "### Unknown Word Handling\n",
    "---\n",
    "Handling unknown words is essential for improving the robustness of your sequence tagging model. When your model encounters words that were not present in the training data, it might struggle to make accurate predictions.\n",
    "\n",
    "In this section, you will complete `handle_unknown_words(t, documents)` function in `helpers.py` The unknown word handling function replaces infrequently occurring words in the text data with a special \"\\<unk\\>\" token. This ensures that words with low occurrence are not treated as unique and distinct, allowing the model to recognize them as a common unknown category. By doing so, the method helps the model maintain consistent performance when dealing with unfamiliar or rare words, enhancing its ability to handle unseen data effectively.\n",
    "\n",
    "Detailed specs about expected inputs and outputs are outlined in `helpers.py`. It injests the tokenized documents of a corpus (e.g. the training_data[\"text\"] from above) and returns a tokenized document corpus with infrequent words replaced by \"\\<unk\\>\", as well as the resulting vocab.\n",
    "\n",
    "After you complete the function, you may run the following basic test case. Passing this test does NOT guarantee correctness and it is a good idea to write some tests of your own."
   ]
  },
  {
   "cell_type": "code",
   "execution_count": 16,
   "metadata": {},
   "outputs": [
    {
     "data": {
      "text/plain": [
       "([['apple', 'banana', 'apple', '<unk>'],\n",
       "  ['apple', 'cherry', 'banana', 'banana'],\n",
       "  ['cherry', 'apple', 'banana']],\n",
       " ['banana', 'apple', 'cherry', '<unk>'])"
      ]
     },
     "execution_count": 16,
     "metadata": {},
     "output_type": "execute_result"
    }
   ],
   "source": [
    "t = 0.3\n",
    "documents = [[\"apple\", \"banana\", \"apple\", \"orange\"],\n",
    "                [\"apple\", \"cherry\", \"banana\", \"banana\"],\n",
    "                [\"cherry\", \"apple\", \"banana\"]]\n",
    "\n",
    "handle_unknown_words(t=t, documents=documents)\n"
   ]
  },
  {
   "cell_type": "code",
   "execution_count": 17,
   "metadata": {
    "id": "one7Ub_17CRX"
   },
   "outputs": [
    {
     "name": "stdout",
     "output_type": "stream",
     "text": [
      "[['good', 'morning'], ['is', 'good', 'morning'], ['<unk>']]\n",
      "[['good', 'morning'], ['is', 'good', 'morning'], ['<unk>']]\n"
     ]
    },
    {
     "data": {
      "text/plain": [
       "['morning', 'good', 'is', '<unk>']"
      ]
     },
     "execution_count": 17,
     "metadata": {},
     "output_type": "execute_result"
    }
   ],
   "source": [
    "t = 0.3  #see helpers.py for information about this parameter means\n",
    "documents = [[\"good\", \"morning\"], [\"is\", \"good\", \"morning\"], [\"hello\"]]\n",
    "expected_new_documents = [[\"good\", \"morning\"], [\"is\", \"good\", \"morning\"], [\"<unk>\"]]\n",
    "expected_vocab = [\"good\", \"morning\", \"is\", \"<unk>\"]\n",
    "new_documents, vocab = handle_unknown_words(t, documents)\n",
    "\n",
    "print(expected_new_documents)\n",
    "print(new_documents)\n",
    "\n",
    "assert expected_new_documents == new_documents\n",
    "assert sorted(expected_vocab) == sorted(vocab)\n",
    "\n",
    "# TODO: test this a bit more\n",
    "vocab\n"
   ]
  },
  {
   "cell_type": "code",
   "execution_count": 18,
   "metadata": {},
   "outputs": [
    {
     "name": "stdout",
     "output_type": "stream",
     "text": [
      "[['apple', 'banana', 'apple', '<unk>'], ['apple', 'cherry', 'banana', 'banana'], ['cherry', 'apple', 'banana']]\n",
      "[['apple', 'banana', 'apple', '<unk>'], ['apple', 'cherry', 'banana', 'banana'], ['cherry', 'apple', 'banana']]\n"
     ]
    }
   ],
   "source": [
    "t = 0.3\n",
    "documents = [[\"apple\", \"banana\", \"apple\", \"orange\"],\n",
    "                [\"apple\", \"cherry\", \"banana\", \"banana\"],\n",
    "                [\"cherry\", \"apple\", \"banana\"]]\n",
    "new_documents, vocab = handle_unknown_words(t, documents)\n",
    "expected_new_documents = [['apple', 'banana', 'apple', '<unk>'],\n",
    " ['apple', 'cherry', 'banana', 'banana'],\n",
    " ['cherry', 'apple', 'banana']]\n",
    "expected_vocab = ['banana', 'apple', 'cherry', '<unk>']\n",
    "\n",
    "print(expected_new_documents)\n",
    "print(new_documents)\n",
    "\n",
    "assert expected_new_documents == new_documents\n",
    "assert sorted(expected_vocab) == sorted(vocab)\n"
   ]
  },
  {
   "cell_type": "markdown",
   "metadata": {
    "id": "KvD6P8Qp7CRY"
   },
   "source": [
    "### Smoothing\n",
    "---\n",
    "Smoothing makes our sequence tagging model more resilient to unexpected words and rare patterns, improving its ability to predict accurately on unseen data.\n",
    "\n",
    "In this section, you will complete `apply_smoothing(k, observation_counts, unique_obs)` function in `helpers.py` file. The function implements an add-k smoothing. It adds a constant value (k) to each count before calculating probabilities, ensuring that no count is zero and that probabilities are never zero. While there are more advanced smoothing techniques, add-k smoothing provides a good starting point for handling the challenges of sparse data in probabilistic modeling.\n",
    "\n",
    "For example, given an unsmoothed frequency count\n",
    "```\n",
    "unsmoothed_counts = {\n",
    "    ('PER', 'John'): 3,\n",
    "    ('PER', 'Google'): 0,\n",
    "    ('PER', 'California'): 0,\n",
    "    ('PER', 'works'): 0,\n",
    "    ('PER', 'at'): 0,\n",
    "    ('ORG', 'Google'): 2,\n",
    "    ('ORG', 'John'): 0,\n",
    "    ('ORG', 'California'): 0,\n",
    "    ('ORG', 'works'): 0,\n",
    "    ('ORG', 'at'): 0,\n",
    "    ('LOC', 'Google'): 0,\n",
    "    ('LOC', 'John'): 0,\n",
    "    ('LOC', 'California'): 1,\n",
    "    ('LOC', 'works'): 0,\n",
    "    ('LOC', 'at'): 0,\n",
    "    ('O', 'Google'): 0,\n",
    "    ('O', 'John'): 0,\n",
    "    ('O', 'California'): 0,\n",
    "    ('O', 'works'): 4,\n",
    "    ('O', 'at'): 5,\n",
    "}\n",
    "```\n",
    "the smoothed add-1 frequency count should be\n",
    "```\n",
    "smoothed_counts = {\n",
    "    ('PER', 'John'): 3 + 1,\n",
    "    ('PER', 'Google'): 0 + 1,\n",
    "    ('PER', 'California'): 0 + 1,\n",
    "    ('PER', 'works'): 0 + 1,\n",
    "    ('PER', 'at'): 0 + 1,\n",
    "    ('ORG', 'Google'): 2 + 1,\n",
    "    ('ORG', 'John'): 0 + 1,\n",
    "    ('ORG', 'California'): 0 + 1,\n",
    "    ('ORG', 'works'): 0 + 1,\n",
    "    ('ORG', 'at'): 0 + 1,\n",
    "    ...same for 'LOC' and 'O'\n",
    "}\n",
    "```\n",
    "and the smoothed add-1 probability would be\n",
    "```\n",
    "smoothed_prob = {\n",
    "    ('PER', 'John'): (3 + 1) / (3 + 1 + 0 + 1 + 0 + 1 + 0 + 1 + 0 + 1),\n",
    "    ('PER', 'Google'): (0 + 1) / (3 + 1 + 0 + 1 + 0 + 1 + 0 + 1 + 0 + 1),\n",
    "    ('PER', 'California'): (0 + 1) / (3 + 1 + 0 + 1 + 0 + 1 + 0 + 1 + 0 + 1),\n",
    "    ('PER', 'works'): (0 + 1) / (3 + 1 + 0 + 1 + 0 + 1 + 0 + 1 + 0 + 1),\n",
    "    ('PER', 'at'): (0 + 1) / (3 + 1 + 0 + 1 + 0 + 1 + 0 + 1 + 0 + 1),\n",
    "    ('ORG', 'Google'): (2 + 1) / (2 + 1 + 0 + 1 + 0 + 1 + 0 + 1 + 0 + 1),\n",
    "    ...\n",
    "}\n",
    "```\n",
    "Note when you call `apply_smoothing` function later in the HMM, the input `observation_counts` should contain counts for all possible `(curr NER tag, next NER tag)` pairs for transition matrix and `(NER tag, word)` pairs for emission matrix. i.e. if a `(NER tag, word)` doesn't appear in the training data, you should still include it as `observation_counts[(NER tag, word)]=0`.\n",
    "\n",
    "After you complete the function, you may run the following basic test case. Passing this test does NOT guarantee correctness and it is a good idea to write some tests of your own. <br>\n",
    "\n",
    "**NOTE: This example uses entity tags, but you should be using BIO tags in the assignment (ex: B-ORG, I-ORG, B-PER, I-PER, B-LOC, I-LOC, B-MISC, I-MISC, O).**\n",
    "\n",
    "**In your implementation, you should store values in the log space**"
   ]
  },
  {
   "cell_type": "code",
   "execution_count": 19,
   "metadata": {
    "id": "FOo0c4B87CRY"
   },
   "outputs": [],
   "source": [
    "k = 1\n",
    "test_counts = {\n",
    "    ('PER', 'John'): 3,\n",
    "    ('PER', 'Google'): 0,\n",
    "    ('PER', 'California'): 0,\n",
    "    ('PER', 'works'): 0,\n",
    "    ('PER', 'at'): 0,\n",
    "    ('ORG', 'Google'): 2,\n",
    "    ('ORG', 'John'): 0,\n",
    "    ('ORG', 'California'): 0,\n",
    "    ('ORG', 'works'): 0,\n",
    "    ('ORG', 'at'): 0,\n",
    "    ('LOC', 'Google'): 0,\n",
    "    ('LOC', 'John'): 0,\n",
    "    ('LOC', 'California'): 1,\n",
    "    ('LOC', 'works'): 0,\n",
    "    ('LOC', 'at'): 0,\n",
    "    ('O', 'Google'): 0,\n",
    "    ('O', 'John'): 0,\n",
    "    ('O', 'California'): 0,\n",
    "    ('O', 'works'): 4,\n",
    "    ('O', 'at'): 5,\n",
    "}\n",
    "\n",
    "expected_log_smoothed_probs = {\n",
    "    ('PER', 'John'): np.log(4/8),\n",
    "    ('PER', 'Google'): np.log(1/8),\n",
    "    ('PER', 'California'): np.log(1/8),\n",
    "    ('PER', 'works'): np.log(1/8),\n",
    "    ('PER', 'at'): np.log(1/8),\n",
    "    ('ORG', 'Google'): np.log(3/7),\n",
    "    ('ORG', 'John'): np.log(1/7),\n",
    "    ('ORG', 'California'): np.log(1/7),\n",
    "    ('ORG', 'works'): np.log(1/7),\n",
    "    ('ORG', 'at'): np.log(1/7),\n",
    "    ('LOC', 'Google'): np.log(1/6),\n",
    "    ('LOC', 'John'): np.log(1/6),\n",
    "    ('LOC', 'California'): np.log(2/6),\n",
    "    ('LOC', 'works'): np.log(1/6),\n",
    "    ('LOC', 'at'): np.log(1/6),\n",
    "    ('O', 'Google'): np.log(1/14),\n",
    "    ('O', 'John'): np.log(1/14),\n",
    "    ('O', 'California'): np.log(1/14),\n",
    "    ('O', 'works'): np.log(5/14),\n",
    "    ('O', 'at'): np.log(6/14),\n",
    "}\n",
    "\n",
    "vocab = ['John', 'Google', 'California', 'works', 'at']\n",
    "# vocab = [\"PER\", \"ORG\", \"LOC\", \"O\"]\n",
    "\n",
    "log_smoothed_probs = apply_smoothing(k, test_counts, vocab)\n",
    "\n",
    "assert len(expected_log_smoothed_probs) == len(log_smoothed_probs)\n",
    "for key in test_counts:\n",
    "    np.testing.assert_almost_equal(expected_log_smoothed_probs[key], log_smoothed_probs[key])\n",
    "\n",
    "\n",
    "# TODO: test this a bit more\n"
   ]
  },
  {
   "cell_type": "markdown",
   "metadata": {
    "id": "D9LWxWrxtgTK"
   },
   "source": [
    "### Milestone submission\n",
    "\n",
    "You can make a milestone submission here. You need to submit your `helpers.py' file to hw1-milestone. The output of this function is expected to be a Python dictionary, where the keys are state-observation tuples, and the corresponding values are the log smoothed observation probabilities. We will not check if the values are exactly correct for the milestone submission, but we will run a basic sanity test to check that your returned dictionary does not contain any 0 probability (or -inf log probability values).\n",
    "\n",
    "In particular, we will check to ensure that all (NER tag, word) pairs with 0 observation counts have been included and assigned log smoothed probabilities."
   ]
  },
  {
   "cell_type": "markdown",
   "metadata": {
    "id": "p_OtHqyw7CRY"
   },
   "source": [
    "### **HMM Class Implementation**\n",
    "---\n",
    "In this section, you will be implementing the HMM class using the following properties.\n",
    "\n",
    "\n",
    "- **documents**: dataset of sentences to train model\n",
    "- **labels**: NER labels corresponding the sentences to train model\n",
    "- **vocab**: dataset vocabulary\n",
    "- **all_tags**: all possible NER tags\n",
    "- **k_t**: add-k parameter to smooth transition probabilities\n",
    "- **k_e**: add-k parameter to smooth emission probabilities\n",
    "- **k_s**: add-k parameter to smooth starting state probabilities\n",
    "- **smoothing_func**: smoothing function to smooth state-observation probabilities\n",
    "\n",
    "\n",
    "In the `model.py` file, complete following methods under the HMM class:\n",
    "1. `build_transition_matrix()`: returns the transition probabilities as a dictionary, mapping all possible (tag, tag) tuple pairs to their corresponding smoothed log probabilities. See function declaration for more details.\n",
    "\n",
    "2. `build_emission_matrix()`:\n",
    "    returns the emission probabilities as a dictionary, mapping all possible\n",
    "    (tag, token) tuple pairs to their corresponding smoothed log probabilities. See function declaration for more details.\n",
    "    \n",
    "3. `get_start_state_probs()`:\n",
    "    returns the starting state probabilities as a dictionary, mapping all possible\n",
    "    tags to their corresponding smoothed log probabilities. See function declaration for more details.\n",
    "      \n",
    "4. `get_tag_likelihood(predicted_tag, previous_tag, document, i)`\n",
    "     returns the tag likelihood used by the Viterbi algorithm for the log probability of a given\n",
    "    predicted_tag conditioned on the previous_tag and document at index i. See function declaration for more details."
   ]
  },
  {
   "cell_type": "markdown",
   "metadata": {
    "id": "b1SHlIyFtgTK"
   },
   "source": [
    "To help you check your implementation, we give you a toy example with only 3 tags: [\"B-PER\", \"O\", \"B-LOC\"]. You may run this following basic test case to test your implementation of build_transition_matrix() and build_emission_matrix(). Passing this test does NOT guarantee correctness and it is a good idea to write some tests of your own."
   ]
  },
  {
   "cell_type": "code",
   "execution_count": 20,
   "metadata": {
    "id": "lbqu-xwytgTK"
   },
   "outputs": [
    {
     "name": "stdout",
     "output_type": "stream",
     "text": [
      "['B-LOC', 'O', 'B-PER']\n",
      "['Bob', 'walk', 'in', 'Paris', 'and', 'Alice']\n"
     ]
    }
   ],
   "source": [
    "toy_hmm_documents = [['Alice', 'and', 'Bob', 'walk', 'in', 'Paris'], ['Bob', 'and', 'Alice', 'walk', 'in', 'Paris']]\n",
    "toy_hmm_vocab = list(set([item for sublist in toy_hmm_documents for item in sublist]))\n",
    "toy_hmm_ner_tags = [['B-PER', 'O', 'B-PER', 'O', 'O', 'B-LOC'], ['B-PER', 'O', 'B-PER', 'O', 'O', 'B-LOC']]\n",
    "\n",
    "test_hmm_all_tags = list(set([item for sublist in toy_hmm_ner_tags for item in sublist]))\n",
    "print(test_hmm_all_tags)\n",
    "print(toy_hmm_vocab)\n",
    "\n",
    "test_hmm = HMM(toy_hmm_documents, toy_hmm_ner_tags, toy_hmm_vocab, test_hmm_all_tags,\n",
    "          k_t=1, k_e=1, k_s=1, smoothing_func=apply_smoothing)\n",
    "          \n",
    "true_emission_matrix = {\n",
    "    ('B-LOC', 'Bob'): np.log(1/8),\n",
    "    ('B-LOC', 'Alice'): np.log(1/8),\n",
    "    ('B-LOC', 'in'): np.log(1/8),\n",
    "    ('B-LOC', 'and'): np.log(1/8),\n",
    "    ('B-LOC', 'Paris'): np.log(3/8),\n",
    "    ('B-LOC', 'walk'): np.log(1/8),\n",
    "    ('B-PER', 'Bob'): np.log(3/10),\n",
    "    ('B-PER', 'Alice'): np.log(3/10),\n",
    "    ('B-PER', 'in'): np.log(1/10),\n",
    "    ('B-PER', 'and'): np.log(1/10),\n",
    "    ('B-PER', 'Paris'): np.log(1/10),\n",
    "    ('B-PER', 'walk'): np.log(1/10),\n",
    "    ('O', 'Bob'): np.log(1/12),\n",
    "    ('O', 'Alice'): np.log(1/12),\n",
    "    ('O', 'in'): np.log(3/12),\n",
    "    ('O', 'and'): np.log(3/12),\n",
    "    ('O', 'Paris'): np.log(1/12),\n",
    "    ('O', 'walk'): np.log(3/12)\n",
    "}\n",
    "\n",
    "true_transition_matrix = {\n",
    "    ('B-LOC', 'B-LOC'): np.log(1/6),\n",
    "    ('B-LOC', 'B-PER'): np.log(1/6),\n",
    "    ('B-LOC', 'O'): np.log(1/6),\n",
    "    ('B-LOC', 'qf'): np.log(3/6),\n",
    "    ('B-PER', 'B-LOC'): np.log(1/8),\n",
    "    ('B-PER', 'B-PER'): np.log(1/8),\n",
    "    ('B-PER', 'O'): np.log(5/8),\n",
    "    ('B-PER', 'qf'): np.log(1/8),\n",
    "    ('O', 'B-LOC'): np.log(3/10),\n",
    "    ('O', 'B-PER'): np.log(3/10),\n",
    "    ('O', 'O'): np.log(3/10),\n",
    "    ('O', 'qf'): np.log(1/10)\n",
    "}\n",
    "\n",
    "for key in true_emission_matrix:\n",
    "    np.testing.assert_almost_equal(true_emission_matrix[key], test_hmm.emission_matrix[key])\n",
    "\n",
    "for key in true_transition_matrix:\n",
    "    np.testing.assert_almost_equal(true_transition_matrix[key], test_hmm.transition_matrix[key])\n",
    "\n",
    "# TODO: test these more\n"
   ]
  },
  {
   "cell_type": "markdown",
   "metadata": {
    "id": "6Hj4pToAtgTK"
   },
   "source": [
    "If needed, you may extend the above example to test your implementation of get_tag_likelihood and get_start_state_probs functions as well."
   ]
  },
  {
   "cell_type": "markdown",
   "metadata": {
    "id": "J-2qQjzT7CRY"
   },
   "source": [
    "\n",
    "After you completed the class methods, call the HMM constructor to train your model with the following criteria:\n",
    "- Note that the input data to train your model will be the training_data[\"text\"] and training_data[\"NER]\n",
    "- First handle unknown words by using your function `handle_unknown_words` from Part 2.1 using a threshold t = 0.01. You should call this function only on the training dataset in this step.\n",
    "- When you call the HMM constructor, use the following smoothing parameters: k_t = 0.01, k_e = 0.01, k_s = 0.1. You should use your smoothing function that you have implemented in Part 2.2\n",
    "- An example call to the HMM constructor is shown in the example above. Note that the values of all_tags and vocab will be different between the toy example above and your training data."
   ]
  },
  {
   "cell_type": "code",
   "execution_count": 21,
   "metadata": {
    "id": "EKoQ1iHt7CRY"
   },
   "outputs": [],
   "source": [
    "# YOUR CODE HERE\n",
    "\n",
    "all_tags = [\"B-LOC\", \"B-MISC\", \"B-ORG\", \"B-PER\", \"I-LOC\", \"I-MISC\", \"I-ORG\", \"I-PER\", \"O\"]\n",
    "\n",
    "training_text, vocab = handle_unknown_words(t=0.01, documents=training_data['text'])\n",
    "hmm = HMM(training_text, training_data[\"NER\"], vocab, all_tags,\n",
    "          k_t=0.01, k_e=0.01, k_s=0.1, smoothing_func=apply_smoothing)\n"
   ]
  },
  {
   "cell_type": "markdown",
   "metadata": {
    "id": "HE8faYCx7CRY"
   },
   "source": [
    "### **Viterbi Implementation**\n",
    "---\n",
    "Implement the function `viterbi(model, observation)` in `viterbi.py` that returns the model's predicted tag sequence for a particular observation. After you have completed the function, use the following cell to see an example tagged sequence."
   ]
  },
  {
   "cell_type": "code",
   "execution_count": 22,
   "metadata": {},
   "outputs": [
    {
     "name": "stdout",
     "output_type": "stream",
     "text": [
      "0\n",
      "[('This', 'O', 'O'), ('is', 'O', 'O'), ('the', 'O', 'O'), ('highest', 'O', 'O'), ('approval', 'O', 'O'), ('rate', 'O', 'O'), ('among', 'O', 'O'), ('West', 'B-MISC', 'B-MISC'), ('German', 'B-MISC', 'I-MISC'), ('federal', 'O', 'O'), ('states', 'O', 'O'), ('(', 'O', 'O'), ('average', 'O', 'O'), (':', 'O', 'O'), ('20', 'O', 'O'), ('%', 'O', 'O'), (')', 'O', 'O'), ('and', 'O', 'O'), ('the', 'O', 'O'), ('second', 'O', 'O'), ('highest', 'O', 'O'), ('nationwide', 'O', 'O'), ('(', 'O', 'O'), ('national', 'O', 'O'), ('average', 'O', 'O'), (':', 'O', 'O'), ('24.3', 'O', 'O'), ('%', 'O', 'O'), (')', 'O', 'O')]\n",
      "2\n",
      "[('Questions', 'O', 'O'), ('in', 'O', 'O'), ('Parliament', 'B-ORG', 'O'), ('have', 'O', 'O'), ('not', 'O', 'O'), ('clarified', 'O', 'O'), ('the', 'O', 'O'), ('situation', 'O', 'O'), (',', 'O', 'O'), ('as', 'O', 'O'), ('answers', 'O', 'O'), ('from', 'O', 'O'), ('the', 'O', 'O'), ('relevant', 'O', 'O'), ('minister', 'O', 'O'), ('say', 'O', 'O'), ('that', 'O', 'O'), ('since', 'O', 'O'), ('there', 'O', 'O'), ('is', 'O', 'O'), ('no', 'O', 'O'), ('official', 'O', 'O'), ('national', 'O', 'O'), ('anthem', 'O', 'O'), (',', 'O', 'O'), ('each', 'O', 'O'), ('sport', 'O', 'O'), ('must', 'O', 'O'), ('make', 'O', 'O'), ('its', 'O', 'O'), ('own', 'O', 'O'), ('decision', 'O', 'O')]\n",
      "7\n",
      "[('\"', 'O', 'O'), ('At', 'B-MISC', 'O'), ('Seventeen', 'I-MISC', 'B-ORG'), ('\"', 'O', 'O'), ('is', 'O', 'O'), ('a', 'O', 'O'), ('bittersweet', 'O', 'O'), ('commentary', 'O', 'O'), ('on', 'O', 'O'), ('adolescent', 'O', 'O'), ('cruelty', 'O', 'O'), (',', 'O', 'O'), ('the', 'O', 'O'), ('illusion', 'O', 'O'), ('of', 'O', 'O'), ('popularity', 'O', 'O'), ('and', 'O', 'O'), ('teenage', 'O', 'O'), ('angst', 'O', 'O'), (',', 'O', 'O'), ('from', 'O', 'O'), ('the', 'O', 'O'), ('perspective', 'O', 'O'), ('of', 'O', 'O'), ('a', 'O', 'O'), ('narrator', 'O', 'O'), ('looking', 'O', 'O'), ('back', 'O', 'O'), ('on', 'O', 'O'), ('her', 'O', 'O'), ('earlier', 'O', 'O'), ('experience', 'O', 'O')]\n",
      "14\n",
      "[('Red', 'O', 'B-PER'), ('Easter', 'B-MISC', 'I-PER'), ('eggs', 'O', 'O'), ('are', 'O', 'O'), ('sometimes', 'O', 'O'), ('served', 'O', 'O'), ('along', 'O', 'O'), ('the', 'O', 'O'), ('centerline', 'O', 'O'), ('of', 'O', 'O'), ('tsoureki', 'O', 'O'), ('(', 'O', 'O'), ('braided', 'O', 'O'), ('loaf', 'O', 'O'), ('of', 'O', 'O'), ('bread', 'O', 'O'), (')', 'O', 'O')]\n",
      "19\n",
      "[('In', 'O', 'O'), ('2015', 'O', 'O'), (',', 'O', 'O'), ('there', 'O', 'O'), ('were', 'O', 'O'), ('ten', 'O', 'O'), ('adult', 'O', 'O'), ('education', 'O', 'O'), ('centres', 'O', 'O'), ('in', 'O', 'O'), ('Gothenburg', 'B-LOC', 'B-LOC'), (':', 'O', 'O'), ('\"', 'O', 'O'), ('Agnesbergs', 'B-LOC', 'B-ORG'), ('folkhögskola', 'O', 'I-ORG'), ('\"', 'O', 'O'), (',', 'O', 'O'), ('\"', 'O', 'O'), ('Arbetarrörelsens', 'B-ORG', 'B-ORG'), ('folkhögskola', 'I-ORG', 'I-ORG'), ('i', 'O', 'I-ORG'), ('Göteborg', 'B-LOC', 'I-ORG'), ('\"', 'O', 'O'), (',', 'O', 'O'), ('\"', 'O', 'O'), ('Finska', 'B-ORG', 'B-ORG'), ('folkhögskolan', 'I-ORG', 'I-ORG'), ('\"', 'O', 'O'), (',', 'O', 'O'), ('\"', 'O', 'O'), ('Folkhögskolan', 'B-ORG', 'B-ORG'), ('i', 'I-ORG', 'I-ORG'), ('Angered', 'I-ORG', 'I-ORG'), ('\"', 'O', 'O'), (',', 'O', 'O'), ('\"', 'O', 'O'), ('Göteborgs', 'B-ORG', 'B-ORG'), ('folkhögskola', 'I-ORG', 'I-ORG'), ('\"', 'O', 'O'), (',', 'O', 'O'), ('\"', 'O', 'O'), ('Kvinnofolkhögskolan', 'B-ORG', 'B-ORG'), ('\"', 'O', 'O'), (',', 'O', 'O'), ('\"', 'O', 'O'), ('Mo', 'B-ORG', 'B-ORG'), ('Gård', 'I-ORG', 'I-ORG'), ('folkhögskola', 'I-ORG', 'I-ORG'), ('\"', 'O', 'O'), (',', 'O', 'O'), ('\"', 'O', 'O'), ('S', 'B-ORG', 'B-ORG'), (':', 'I-ORG', 'I-ORG'), ('ta', 'I-ORG', 'I-ORG'), ('Birgittas', 'I-ORG', 'I-ORG'), ('folkhögskola', 'I-ORG', 'I-ORG'), ('\"', 'O', 'O'), (',', 'O', 'O'), ('\"', 'O', 'O'), ('Västra', 'B-ORG', 'B-ORG'), ('Götalands', 'I-ORG', 'I-ORG'), ('folkhögskolor', 'I-ORG', 'I-ORG'), ('\"', 'O', 'O'), ('and', 'O', 'O'), ('\"', 'O', 'O'), ('Wendelsbergs', 'B-ORG', 'B-ORG'), ('folkhögskola', 'I-ORG', 'I-ORG'), ('\"', 'O', 'O')]\n"
     ]
    }
   ],
   "source": [
    "for i in range(20):\n",
    "    obs = training_data['text'][i]\n",
    "    tags = training_data['NER'][i]\n",
    "\n",
    "    predicted = viterbi(hmm, obs, all_tags)\n",
    "    if tags != predicted:\n",
    "        print(i)\n",
    "        print(list(zip(obs, tags, predicted)))\n"
   ]
  },
  {
   "cell_type": "code",
   "execution_count": 23,
   "metadata": {
    "id": "J7hADYvi7CRY"
   },
   "outputs": [
    {
     "data": {
      "text/plain": [
       "['O', 'B-LOC', 'O', 'O', 'O', 'O', 'O', 'O', 'O', 'O', 'B-PER', 'I-PER']"
      ]
     },
     "execution_count": 23,
     "metadata": {},
     "output_type": "execute_result"
    }
   ],
   "source": [
    "all_tags = [\"B-ORG\", \"I-ORG\", \"B-PER\", \"I-PER\", \"B-LOC\", \"I-LOC\", \"B-MISC\", \"I-MISC\", \"O\"]\n",
    "obs = ['The',\n",
    " 'White',\n",
    " 'house',\n",
    " 'located',\n",
    " 'in',\n",
    " 'Ithaca',\n",
    " 'and',\n",
    " 'was',\n",
    " 'founded',\n",
    " 'by',\n",
    " 'Ezra',\n",
    " 'Cornell']\n",
    "\n",
    "# Uncomment and fill out the following line to test your implementation:\n",
    "viterbi(hmm, obs, all_tags) #hmm is the trained model from the previous code block\n",
    "# TODO: test these more\n"
   ]
  },
  {
   "cell_type": "markdown",
   "metadata": {
    "id": "sIBZx5Pb7CRY"
   },
   "source": [
    "### **Validation Step for HMM**\n",
    "---\n",
    "Understanding how models perform on unseen data is important, hence the validation set was set aside to be used in the evaluation of the model. In the previous part of the project, we expected you to train your HMM model (i.e., get transition and emission probabilities) on the labeled training data. Next, you will evaluate your trained model on the validation data. Report **Entity Level Mean F1**, which was explained earlier.\n",
    "\n",
    "**TODO:** complete the function `evaluate_model(model, validation_data, tags)` in the `validation.py` file that takes in a model (HMM) and the validation dataset and returns the Entity Level Mean F1. <br>\n",
    "In the `validation.py` file, you have the following helper methods:\n",
    "- **flatten_double_lst(lstlst)**: Takes in a double nested list and returns the flattened version, row-major\n",
    "- **format_output_labels(token_labels, token_indices)**: Takes in a list of token labels and the corresponding list of token indices and returns a dictionary with mapping NER labels (excluding 'O') to indices that have those labels\n",
    "- **mean_f1(y_pred_dict, y_true_dict)**: Takes in two dictionaries (each mapping NER labels (excluding 'O') to indices that have those labels) that represent predicted labels and truth labels respectively and returns the mean f1 score.\n",
    "\n",
    "Below is an example use case of **format_output_labels(token_labels, token_indices)**"
   ]
  },
  {
   "cell_type": "code",
   "execution_count": 24,
   "metadata": {
    "id": "MHNKIF5b7CRY"
   },
   "outputs": [
    {
     "name": "stdout",
     "output_type": "stream",
     "text": [
      "y_pred_dict is : {'LOC': [(18, 18), (28, 28)], 'MISC': [(23, 23)], 'ORG': [(13, 13)], 'PER': [(15, 16)]}\n",
      "y_true_dict is : {'LOC': [(18, 18), (28, 28)], 'MISC': [(23, 24)], 'ORG': [(13, 13)], 'PER': [(15, 16)]}\n",
      "Entity Level Mean F1 score is : 0.75\n"
     ]
    }
   ],
   "source": [
    "pred_token_labels = [\"B-ORG\", \"O\", \"B-PER\", \"I-PER\", \"O\", \"B-LOC\", \"O\", \"O\", \"O\", \"O\", \"B-MISC\", \"O\", \"O\", \"O\", \"O\", \"B-LOC\"]\n",
    "true_token_labels = [\"B-ORG\", \"O\", \"B-PER\", \"I-PER\", \"O\", \"B-LOC\", \"O\", \"O\", \"O\", \"O\", \"B-MISC\", \"I-MISC\", \"O\", \"O\", \"O\", \"B-LOC\"]\n",
    "token_indices = [13, 14, 15, 16, 17, 18, 19, 20, 21, 22, 23, 24, 25, 26, 27, 28]\n",
    "\n",
    "y_pred_dict = format_output_labels(pred_token_labels, token_indices)\n",
    "print(\"y_pred_dict is : \" + str(y_pred_dict))\n",
    "y_true_dict = format_output_labels(true_token_labels, token_indices)\n",
    "print(\"y_true_dict is : \" + str(y_true_dict))\n",
    "\n",
    "print(\"Entity Level Mean F1 score is : \" + str(mean_f1(y_pred_dict, y_true_dict)))\n"
   ]
  },
  {
   "cell_type": "markdown",
   "metadata": {
    "id": "PQOECYRV7CRY"
   },
   "source": [
    "After you complete `evaluate_model(model, validation_data, tags)`, use the cell below to evaluate the model using the function you have just implemented. Please also take a look into your misclassified cases, as we will be performing error analysis in next part"
   ]
  },
  {
   "cell_type": "code",
   "execution_count": 25,
   "metadata": {
    "id": "mO0ig2f87CRY"
   },
   "outputs": [
    {
     "data": {
      "text/plain": [
       "0.47535049060055296"
      ]
     },
     "execution_count": 25,
     "metadata": {},
     "output_type": "execute_result"
    }
   ],
   "source": [
    "# YOUR CODE HERE\n",
    "evaluate_model(hmm, validation_data, all_tags)\n"
   ]
  },
  {
   "cell_type": "markdown",
   "metadata": {
    "id": "d9iWDJXS7CRY"
   },
   "source": [
    "### HMM Analysis\n",
    "#### Q2.1: In which situations did the system perform effectively, and when did it encounter challenges? For instance, does the model excel in predicting certain NER tags more than others? Could you offer any hypotheses about the reasons behind these patterns and suggest potential improvements?"
   ]
  },
  {
   "cell_type": "code",
   "execution_count": 26,
   "metadata": {
    "id": "DNjwOrq07CRd"
   },
   "outputs": [],
   "source": [
    "# YOUR CODE HERE\n"
   ]
  },
  {
   "cell_type": "markdown",
   "metadata": {
    "id": "mV1fWqgR7CRd"
   },
   "source": [
    "#### Q2.2: How does the treatment of unknown words and the application of smoothing impact the system's performance? Provide examples to illustrate your insights."
   ]
  },
  {
   "cell_type": "code",
   "execution_count": 27,
   "metadata": {
    "id": "FRKDqWj47CRd"
   },
   "outputs": [],
   "source": [
    "# YOUR CODE HERE\n"
   ]
  },
  {
   "cell_type": "markdown",
   "metadata": {
    "id": "4xDSVSfPtgTR"
   },
   "source": [
    "## **Submission**\n",
    "\n",
    "You will submit your code and code outputs to two different final assingments (note that the submission to the milestone was described previously):\n",
    "\n",
    "### hw1-programming\n",
    "You will submit the 5 python files: `models.py` `helpers.py` `data_exploration.py` `viterbi.py` and `validation.py` to this assignment. Make sure to include your Name(s) and NetIDs at the appropriate place at the top of these files. You can run `check_submission.py` to check if the format of your files is correct. Note that this does not check the correctness of your implementation; that will be done by the autograder on gradescope.\n",
    "\n",
    "\n",
    "### hw1-checktestperformance\n",
    "\n",
    "Since your HMM model is graded based on its performance on the test set, you will submit your model's predictions on test data to this assignment and see the test score. Each student is allowed to submit to this assignment a maximum of 10 times per day, which resets every midnight.\n",
    "\n",
    "For submission, you will generate a file `output.txt` that will contain the predictions of your HMM model on the test data. Below, we provide a function `create_submission(predictions)` that takes in the predicted labels of the test dataset and outputs it in the correct format in `output.txt`. As a scoring metric on Gradescope, we use **Entity Level Mean F1**.\n",
    "\n",
    "To use `create_submission(predictions)`, you want to first train your HMM model on the training dataset (If you have already done this in previous steps, great!). Then, for each sentence in the testing dataset, run your `viterbi` function using your trained HMM model and append the result to a list. Pass in the list to `create_submission`."
   ]
  },
  {
   "cell_type": "code",
   "execution_count": null,
   "metadata": {
    "id": "oIqZUaNLtgTR"
   },
   "outputs": [],
   "source": [
    "import json\n",
    "\n",
    "### TODO: Iterate through your test data one document at a time, run viterbi algorithm using your HMM model on that sample and generate predictions. The final output should be (List[List[str]])\n",
    "\n",
    "test_predictions = []\n",
    "for i in range(len(test_data[\"text\"])):\n",
    "    obs = test_data['text'][i]\n",
    "    predicted = viterbi(hmm, obs, all_tags)\n",
    "    test_predictions.append(predicted)\n",
    "\n",
    "\n",
    "def create_submission(test_predictions):\n",
    "    \"\"\"\n",
    "    Parameter:\n",
    "    predictions (List[List[str]]):\n",
    "        Prediction results for the test dataset.\n",
    "        It contains a list of a string list.\n",
    "        Each string list corresponds to a test sentence in the test file.\n",
    "    \"\"\"\n",
    "    with open('output.txt', 'w') as file:\n",
    "        file.write(json.dumps(test_predictions))\n",
    "\n",
    "# Uncomment to use\n",
    "# create_submission(test_predictions)\n"
   ]
  }
 ],
 "metadata": {
  "colab": {
   "provenance": []
  },
  "kernelspec": {
   "display_name": "cs4740",
   "language": "python",
   "name": "python3"
  },
  "language_info": {
   "codemirror_mode": {
    "name": "ipython",
    "version": 3
   },
   "file_extension": ".py",
   "mimetype": "text/x-python",
   "name": "python",
   "nbconvert_exporter": "python",
   "pygments_lexer": "ipython3",
   "version": "3.10.16"
  }
 },
 "nbformat": 4,
 "nbformat_minor": 0
}
